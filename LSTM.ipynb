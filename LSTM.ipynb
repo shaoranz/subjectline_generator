{
  "nbformat": 4,
  "nbformat_minor": 0,
  "metadata": {
    "colab": {
      "name": "LSTM.ipynb",
      "provenance": [],
      "collapsed_sections": [],
      "machine_shape": "hm"
    },
    "kernelspec": {
      "name": "python3",
      "display_name": "Python 3"
    },
    "accelerator": "TPU"
  },
  "cells": [
    {
      "cell_type": "code",
      "metadata": {
        "id": "jTmdSlb5eB8z",
        "colab_type": "code",
        "colab": {}
      },
      "source": [
        "pip -q install summa\n",
        "from summa import summarizer"
      ],
      "execution_count": 0,
      "outputs": []
    },
    {
      "cell_type": "code",
      "metadata": {
        "id": "xijbS0_bcXRl",
        "colab_type": "code",
        "outputId": "0524291f-85de-4b59-f000-6b2044065440",
        "colab": {
          "base_uri": "https://localhost:8080/",
          "height": 85
        }
      },
      "source": [
        "!pip -q install tensorflow==1.13.2\n",
        "!pip -q install keras==2.2.4"
      ],
      "execution_count": 0,
      "outputs": [
        {
          "output_type": "stream",
          "text": [
            "\u001b[K     |████████████████████████████████| 92.6MB 45kB/s \n",
            "\u001b[K     |████████████████████████████████| 368kB 40.6MB/s \n",
            "\u001b[K     |████████████████████████████████| 3.2MB 57.4MB/s \n",
            "\u001b[K     |████████████████████████████████| 317kB 3.4MB/s \n",
            "\u001b[?25h"
          ],
          "name": "stdout"
        }
      ]
    },
    {
      "cell_type": "code",
      "metadata": {
        "id": "PeNq-o9cj-Y4",
        "colab_type": "code",
        "colab": {}
      },
      "source": [
        "import pandas as pd\n",
        "import os, sys, email\n",
        "import numpy as np \n",
        "import re\n",
        "import matplotlib.pyplot as plt\n",
        "%matplotlib inline"
      ],
      "execution_count": 0,
      "outputs": []
    },
    {
      "cell_type": "code",
      "metadata": {
        "id": "o7c4aKdkjzd1",
        "colab_type": "code",
        "colab": {}
      },
      "source": [
        "df=pd.read_csv('emails.csv')"
      ],
      "execution_count": 0,
      "outputs": []
    },
    {
      "cell_type": "code",
      "metadata": {
        "id": "s3gu0BbIkbNL",
        "colab_type": "code",
        "colab": {}
      },
      "source": [
        "#Citation: \n",
        "#Hanumanjunction. “Enron Emails Exploration.” Kaggle, Kaggle, 2 Feb. 2018, www.kaggle.com/hanumanjunction/enron-emails-exploration.\n",
        "def get_text_from_email(msg):\n",
        "    parts = []\n",
        "    for part in msg.walk():\n",
        "        if part.get_content_type() == 'text/plain': #extracting text data\n",
        "            parts.append(part.get_payload())\n",
        "    return ''.join(parts)\n",
        "\n",
        "msgs = list(map(email.message_from_string, df['message']))\n",
        "df.drop('message', axis=1, inplace=True)\n",
        "fields = msgs[0].keys()\n",
        "for field in fields:\n",
        "    df[field] = [doc[field] for doc in msgs]\n",
        "df['content'] = list(map(get_text_from_email, msgs))"
      ],
      "execution_count": 0,
      "outputs": []
    },
    {
      "cell_type": "code",
      "metadata": {
        "id": "c19o1ZKRlHFx",
        "colab_type": "code",
        "outputId": "1cfd2f9b-9e85-4ba0-9c7e-ffb33e540d4e",
        "colab": {
          "base_uri": "https://localhost:8080/",
          "height": 204
        }
      },
      "source": [
        "data=df[['Subject','content']]\n",
        "data.head()"
      ],
      "execution_count": 0,
      "outputs": [
        {
          "output_type": "execute_result",
          "data": {
            "text/html": [
              "<div>\n",
              "<style scoped>\n",
              "    .dataframe tbody tr th:only-of-type {\n",
              "        vertical-align: middle;\n",
              "    }\n",
              "\n",
              "    .dataframe tbody tr th {\n",
              "        vertical-align: top;\n",
              "    }\n",
              "\n",
              "    .dataframe thead th {\n",
              "        text-align: right;\n",
              "    }\n",
              "</style>\n",
              "<table border=\"1\" class=\"dataframe\">\n",
              "  <thead>\n",
              "    <tr style=\"text-align: right;\">\n",
              "      <th></th>\n",
              "      <th>Subject</th>\n",
              "      <th>content</th>\n",
              "    </tr>\n",
              "  </thead>\n",
              "  <tbody>\n",
              "    <tr>\n",
              "      <th>0</th>\n",
              "      <td></td>\n",
              "      <td>Here is our forecast\\n\\n</td>\n",
              "    </tr>\n",
              "    <tr>\n",
              "      <th>1</th>\n",
              "      <td>Re:</td>\n",
              "      <td>Traveling to have a business meeting takes the...</td>\n",
              "    </tr>\n",
              "    <tr>\n",
              "      <th>2</th>\n",
              "      <td>Re: test</td>\n",
              "      <td>test successful.  way to go!!!</td>\n",
              "    </tr>\n",
              "    <tr>\n",
              "      <th>3</th>\n",
              "      <td></td>\n",
              "      <td>Randy,\\n\\n Can you send me a schedule of the s...</td>\n",
              "    </tr>\n",
              "    <tr>\n",
              "      <th>4</th>\n",
              "      <td>Re: Hello</td>\n",
              "      <td>Let's shoot for Tuesday at 11:45.</td>\n",
              "    </tr>\n",
              "  </tbody>\n",
              "</table>\n",
              "</div>"
            ],
            "text/plain": [
              "     Subject                                            content\n",
              "0                                     Here is our forecast\\n\\n \n",
              "1        Re:  Traveling to have a business meeting takes the...\n",
              "2   Re: test                     test successful.  way to go!!!\n",
              "3             Randy,\\n\\n Can you send me a schedule of the s...\n",
              "4  Re: Hello                Let's shoot for Tuesday at 11:45.  "
            ]
          },
          "metadata": {
            "tags": []
          },
          "execution_count": 11
        }
      ]
    },
    {
      "cell_type": "code",
      "metadata": {
        "id": "f3DQ-OgRl4Wx",
        "colab_type": "code",
        "outputId": "3ec9199d-de5d-47a7-a131-53d88d245353",
        "colab": {
          "base_uri": "https://localhost:8080/",
          "height": 122
        }
      },
      "source": [
        "from google.colab import drive\n",
        "drive.mount('/content/drive/',force_remount=True)"
      ],
      "execution_count": 0,
      "outputs": [
        {
          "output_type": "stream",
          "text": [
            "Go to this URL in a browser: https://accounts.google.com/o/oauth2/auth?client_id=947318989803-6bn6qk8qdgf4n4g3pfee6491hc0brc4i.apps.googleusercontent.com&redirect_uri=urn%3aietf%3awg%3aoauth%3a2.0%3aoob&response_type=code&scope=email%20https%3a%2f%2fwww.googleapis.com%2fauth%2fdocs.test%20https%3a%2f%2fwww.googleapis.com%2fauth%2fdrive%20https%3a%2f%2fwww.googleapis.com%2fauth%2fdrive.photos.readonly%20https%3a%2f%2fwww.googleapis.com%2fauth%2fpeopleapi.readonly\n",
            "\n",
            "Enter your authorization code:\n",
            "··········\n",
            "Mounted at /content/drive/\n"
          ],
          "name": "stdout"
        }
      ]
    },
    {
      "cell_type": "code",
      "metadata": {
        "id": "Xdf9qW9MmCWn",
        "colab_type": "code",
        "outputId": "db799651-ec7b-4221-9add-a21535927394",
        "colab": {
          "base_uri": "https://localhost:8080/",
          "height": 34
        }
      },
      "source": [
        "cd 'drive/My Drive/SI630/emailproject'"
      ],
      "execution_count": 0,
      "outputs": [
        {
          "output_type": "stream",
          "text": [
            "/content/drive/My Drive/SI630/emailproject\n"
          ],
          "name": "stdout"
        }
      ]
    },
    {
      "cell_type": "code",
      "metadata": {
        "id": "tbgJijJTor41",
        "colab_type": "code",
        "colab": {}
      },
      "source": [
        "data.to_csv('data.csv')"
      ],
      "execution_count": 0,
      "outputs": []
    },
    {
      "cell_type": "code",
      "metadata": {
        "id": "ltEieSk2pu6I",
        "colab_type": "code",
        "colab": {}
      },
      "source": [
        "data=pd.read_csv('data.csv')"
      ],
      "execution_count": 0,
      "outputs": []
    },
    {
      "cell_type": "code",
      "metadata": {
        "id": "qBlg5zWNp_oJ",
        "colab_type": "code",
        "outputId": "9442df88-da65-4963-917f-6e7054387b98",
        "colab": {
          "base_uri": "https://localhost:8080/",
          "height": 34
        }
      },
      "source": [
        "print(len(data))"
      ],
      "execution_count": 0,
      "outputs": [
        {
          "output_type": "stream",
          "text": [
            "517401\n"
          ],
          "name": "stdout"
        }
      ]
    },
    {
      "cell_type": "code",
      "metadata": {
        "id": "AeCZ1vdRfRtX",
        "colab_type": "code",
        "colab": {}
      },
      "source": [
        "subject_count=data.Subject.str.count(' ') + 1\n",
        "content_count=data.content.str.count(' ') + 1"
      ],
      "execution_count": 0,
      "outputs": []
    },
    {
      "cell_type": "code",
      "metadata": {
        "id": "7OBolDJxmalG",
        "colab_type": "code",
        "outputId": "6af68b85-e98c-48c1-b891-a9a6150aee0a",
        "colab": {
          "base_uri": "https://localhost:8080/",
          "height": 51
        }
      },
      "source": [
        "print('AVG subject length:',subject_count.mean(),\"words\")\n",
        "print('AVG content length:',content_count.mean(),\"words\")"
      ],
      "execution_count": 0,
      "outputs": [
        {
          "output_type": "stream",
          "text": [
            "AVG subject length: 4.6946151653707044 words\n",
            "AVG content length: 302.87751473228695 words\n"
          ],
          "name": "stdout"
        }
      ]
    },
    {
      "cell_type": "code",
      "metadata": {
        "id": "UDsO3lBKrucu",
        "colab_type": "code",
        "colab": {}
      },
      "source": [
        "subject_count=subject_count.fillna(0)\n",
        "content_count=content_count.fillna(0)"
      ],
      "execution_count": 0,
      "outputs": []
    },
    {
      "cell_type": "code",
      "metadata": {
        "id": "vAoDwppxfP5g",
        "colab_type": "code",
        "outputId": "0983d1bb-8e35-4f8b-def2-3b25e7afa603",
        "colab": {
          "base_uri": "https://localhost:8080/",
          "height": 359
        }
      },
      "source": [
        "subject_count.value_counts(bins=75,sort=False)[:20].plot(kind='bar',xticks=[])\n",
        "plt.xticks(ticks=range(0,20,1),labels=zip(range(0,40,2),range(2,42,2)),rotation=90)\n",
        "\n",
        "plt.title(\"Number of words in subject line\")\n",
        "plt.xlabel(\"Number of words\")\n",
        "plt.ylabel(\"Count of emails\")\n",
        "plt.figure(figsize=(12,15))"
      ],
      "execution_count": 0,
      "outputs": [
        {
          "output_type": "execute_result",
          "data": {
            "text/plain": [
              "<Figure size 864x1080 with 0 Axes>"
            ]
          },
          "metadata": {
            "tags": []
          },
          "execution_count": 87
        },
        {
          "output_type": "display_data",
          "data": {
            "image/png": "[encoded data removed]",
            "text/plain": [
              "<Figure size 432x288 with 1 Axes>"
            ]
          },
          "metadata": {
            "tags": [],
            "needs_background": "light"
          }
        },
        {
          "output_type": "display_data",
          "data": {
            "text/plain": [
              "<Figure size 864x1080 with 0 Axes>"
            ]
          },
          "metadata": {
            "tags": []
          }
        }
      ]
    },
    {
      "cell_type": "code",
      "metadata": {
        "id": "ZTP1l7lxh2Uw",
        "colab_type": "code",
        "outputId": "72905412-2343-4af4-e8d3-4bedf6319553",
        "colab": {
          "base_uri": "https://localhost:8080/",
          "height": 371
        }
      },
      "source": [
        "content_count.value_counts(bins=6240,sort=False)[:20].plot(kind='bar',xticks=[])\n",
        "plt.xticks(ticks=range(0,20,1),labels=zip(range(0,800,40),range(40,840,40)),rotation=90)\n",
        "plt.title(\"Number of words in content\")\n",
        "plt.xlabel(\"Number of words\")\n",
        "plt.ylabel(\"Count of emails\")\n",
        "plt.figure(figsize=(12,15))"
      ],
      "execution_count": 0,
      "outputs": [
        {
          "output_type": "execute_result",
          "data": {
            "text/plain": [
              "<Figure size 864x1080 with 0 Axes>"
            ]
          },
          "metadata": {
            "tags": []
          },
          "execution_count": 85
        },
        {
          "output_type": "display_data",
          "data": {
            "image/png": "[encoded data removed]",
            "text/plain": [
              "<Figure size 432x288 with 1 Axes>"
            ]
          },
          "metadata": {
            "tags": [],
            "needs_background": "light"
          }
        },
        {
          "output_type": "display_data",
          "data": {
            "text/plain": [
              "<Figure size 864x1080 with 0 Axes>"
            ]
          },
          "metadata": {
            "tags": []
          }
        }
      ]
    },
    {
      "cell_type": "code",
      "metadata": {
        "id": "EZBbXDw8zC_H",
        "colab_type": "code",
        "colab": {}
      },
      "source": [
        "data=data.dropna()"
      ],
      "execution_count": 0,
      "outputs": []
    },
    {
      "cell_type": "code",
      "metadata": {
        "id": "uBVRcRKQzTQ0",
        "colab_type": "code",
        "outputId": "5a5d67b5-8c79-4d76-d4ae-82685820a0c9",
        "colab": {
          "base_uri": "https://localhost:8080/",
          "height": 34
        }
      },
      "source": [
        "len(data)"
      ],
      "execution_count": 0,
      "outputs": [
        {
          "output_type": "execute_result",
          "data": {
            "text/plain": [
              "498214"
            ]
          },
          "metadata": {
            "tags": []
          },
          "execution_count": 46
        }
      ]
    },
    {
      "cell_type": "code",
      "metadata": {
        "id": "bpKv7swonKpB",
        "colab_type": "code",
        "colab": {}
      },
      "source": [
        "data=data[data['Subject'].apply(lambda x: x.count(' ')>4) & data['content'].apply(lambda x: x.count(' ')>40)]\n",
        "data=data[data['Subject'].apply(lambda x: x.count(' ')<20) & data['content'].apply(lambda x:  x.count(' ')<400)]"
      ],
      "execution_count": 0,
      "outputs": []
    },
    {
      "cell_type": "code",
      "metadata": {
        "id": "RtqKgsIKn3xs",
        "colab_type": "code",
        "outputId": "d1b2d304-ea16-4714-cb20-cfa55b2c5678",
        "colab": {
          "base_uri": "https://localhost:8080/",
          "height": 34
        }
      },
      "source": [
        "len(data)"
      ],
      "execution_count": 0,
      "outputs": [
        {
          "output_type": "execute_result",
          "data": {
            "text/plain": [
              "92065"
            ]
          },
          "metadata": {
            "tags": []
          },
          "execution_count": 48
        }
      ]
    },
    {
      "cell_type": "code",
      "metadata": {
        "id": "jW69gq8yn65p",
        "colab_type": "code",
        "outputId": "88ea58f6-5657-4726-83ad-d5dbd882e913",
        "colab": {
          "base_uri": "https://localhost:8080/",
          "height": 34
        }
      },
      "source": [
        "data=data[data['Subject'].apply(lambda x: not x.startswith('Re:')) & data['content'].apply(lambda x: not x.startswith('-'))]\n",
        "len(data)"
      ],
      "execution_count": 0,
      "outputs": [
        {
          "output_type": "execute_result",
          "data": {
            "text/plain": [
              "69999"
            ]
          },
          "metadata": {
            "tags": []
          },
          "execution_count": 49
        }
      ]
    },
    {
      "cell_type": "code",
      "metadata": {
        "id": "cMcS1yG3rO3k",
        "colab_type": "code",
        "outputId": "bd92ea37-e3f2-49f8-e9e4-c152b9289fda",
        "colab": {
          "base_uri": "https://localhost:8080/",
          "height": 34
        }
      },
      "source": [
        "data=data[data['Subject'].apply(lambda x: not x.startswith('RE:'))]\n",
        "len(data)"
      ],
      "execution_count": 0,
      "outputs": [
        {
          "output_type": "execute_result",
          "data": {
            "text/plain": [
              "62024"
            ]
          },
          "metadata": {
            "tags": []
          },
          "execution_count": 50
        }
      ]
    },
    {
      "cell_type": "code",
      "metadata": {
        "id": "5aSiW6KcrtNJ",
        "colab_type": "code",
        "outputId": "fc7f1a7d-56d4-40ba-9529-bd6532680489",
        "colab": {
          "base_uri": "https://localhost:8080/",
          "height": 34
        }
      },
      "source": [
        "data=data[data['Subject'].apply(lambda x: not x.startswith('FW:'))]\n",
        "len(data)"
      ],
      "execution_count": 0,
      "outputs": [
        {
          "output_type": "execute_result",
          "data": {
            "text/plain": [
              "54828"
            ]
          },
          "metadata": {
            "tags": []
          },
          "execution_count": 51
        }
      ]
    },
    {
      "cell_type": "code",
      "metadata": {
        "id": "a-qeOIKnsMhH",
        "colab_type": "code",
        "outputId": "de408b19-5c1e-48c5-d614-ff4f9d97dc68",
        "colab": {
          "base_uri": "https://localhost:8080/",
          "height": 34
        }
      },
      "source": [
        "data=data[data['Subject'].apply(lambda x: not x.startswith('Re:')) & data['content'].apply(lambda x: not x.startswith(' '))]\n",
        "len(data)"
      ],
      "execution_count": 0,
      "outputs": [
        {
          "output_type": "execute_result",
          "data": {
            "text/plain": [
              "53294"
            ]
          },
          "metadata": {
            "tags": []
          },
          "execution_count": 52
        }
      ]
    },
    {
      "cell_type": "code",
      "metadata": {
        "id": "EST3NF-U2OQe",
        "colab_type": "code",
        "outputId": "7527179a-a4cd-41b8-ab78-bd2b7d257a50",
        "colab": {
          "base_uri": "https://localhost:8080/",
          "height": 34
        }
      },
      "source": [
        "data=data[~data['content'].str.contains('Forwarded by')]\n",
        "len(data)"
      ],
      "execution_count": 0,
      "outputs": [
        {
          "output_type": "execute_result",
          "data": {
            "text/plain": [
              "44634"
            ]
          },
          "metadata": {
            "tags": []
          },
          "execution_count": 53
        }
      ]
    },
    {
      "cell_type": "code",
      "metadata": {
        "id": "vAO9z9tJfWTL",
        "colab_type": "code",
        "colab": {}
      },
      "source": [
        "data['content']=data['content'].apply(lambda x: x.lstrip().replace('[IMAGE]','').lower())\n",
        "data['Subject']=data['Subject'].apply(lambda x: x.lstrip().replace('[IMAGE]','').lower())"
      ],
      "execution_count": 0,
      "outputs": []
    },
    {
      "cell_type": "code",
      "metadata": {
        "id": "U1wPcJFdiHOr",
        "colab_type": "code",
        "colab": {}
      },
      "source": [
        "data=data[['Subject','content']]"
      ],
      "execution_count": 0,
      "outputs": []
    },
    {
      "cell_type": "code",
      "metadata": {
        "id": "OsCKHfBKs6FJ",
        "colab_type": "code",
        "colab": {}
      },
      "source": [
        "data.to_csv('email_cleaned.csv')"
      ],
      "execution_count": 0,
      "outputs": []
    },
    {
      "cell_type": "code",
      "metadata": {
        "id": "66kjTtsjemLE",
        "colab_type": "code",
        "colab": {}
      },
      "source": [
        "#split to train set and test set\n",
        "cleaned_df=pd.read_csv('email_cleaned.csv')\n",
        "msk = np.random.rand(len(cleaned_df)) < 0.9\n",
        "train = cleaned_df[msk]\n",
        "test = cleaned_df[~msk]\n",
        "train.to_csv('train.csv')\n",
        "test.to_csv('test.csv')"
      ],
      "execution_count": 0,
      "outputs": []
    },
    {
      "cell_type": "code",
      "metadata": {
        "id": "CAmnQTKI0e5k",
        "colab_type": "code",
        "colab": {}
      },
      "source": [
        "train=pd.read_csv('train.csv')\n",
        "test=pd.read_csv('test.csv')"
      ],
      "execution_count": 0,
      "outputs": []
    },
    {
      "cell_type": "code",
      "metadata": {
        "id": "5rCL0eYCijsg",
        "colab_type": "code",
        "outputId": "c5af4c20-b74d-4e39-a5e6-a109de39d498",
        "colab": {
          "base_uri": "https://localhost:8080/",
          "height": 34
        }
      },
      "source": [
        "print(len(train),len(test))"
      ],
      "execution_count": 0,
      "outputs": [
        {
          "output_type": "stream",
          "text": [
            "40203 4431\n"
          ],
          "name": "stdout"
        }
      ]
    },
    {
      "cell_type": "code",
      "metadata": {
        "id": "-eFuzMDQyRnt",
        "colab_type": "code",
        "colab": {}
      },
      "source": [
        "#LEAD-2\n",
        "def model1(data):\n",
        "  data=data.lstrip()\n",
        "  data=re.split('[?.,!:]', data)\n",
        "  try: result=data[0]+data[1]\n",
        "  except: result=data[0]\n",
        "  return result.replace('\\n','')"
      ],
      "execution_count": 0,
      "outputs": []
    },
    {
      "cell_type": "code",
      "metadata": {
        "id": "HfWRfBlMd-1P",
        "colab_type": "code",
        "colab": {}
      },
      "source": [
        "#TextRank\n",
        "def model2(data):\n",
        "  try: result=summarizer.summarize(data).partition('.')[0]\n",
        "  except: result=\"NA\"\n",
        "  return result"
      ],
      "execution_count": 0,
      "outputs": []
    },
    {
      "cell_type": "code",
      "metadata": {
        "id": "evctHlQnYJg3",
        "colab_type": "code",
        "outputId": "1bbff4dd-b7db-4fbc-bed9-a75dcb50a494",
        "colab": {
          "base_uri": "https://localhost:8080/",
          "height": 275
        }
      },
      "source": [
        "from keras.preprocessing.text import Tokenizer\n",
        "subject_len=15\n",
        "content_len=300\n",
        "vocab_size=5000\n",
        "\n",
        "\n",
        "tokenizer = Tokenizer(num_words=vocab_size)\n",
        "tokenizer.fit_on_texts(train.content+train.Subject)\n",
        "print(len(tokenizer.word_index))"
      ],
      "execution_count": 0,
      "outputs": [
        {
          "output_type": "stream",
          "text": [
            "Using TensorFlow backend.\n",
            "/usr/local/lib/python3.6/dist-packages/tensorflow/python/framework/dtypes.py:526: FutureWarning: Passing (type, 1) or '1type' as a synonym of type is deprecated; in a future version of numpy, it will be understood as (type, (1,)) / '(1,)type'.\n",
            "  _np_qint8 = np.dtype([(\"qint8\", np.int8, 1)])\n",
            "/usr/local/lib/python3.6/dist-packages/tensorflow/python/framework/dtypes.py:527: FutureWarning: Passing (type, 1) or '1type' as a synonym of type is deprecated; in a future version of numpy, it will be understood as (type, (1,)) / '(1,)type'.\n",
            "  _np_quint8 = np.dtype([(\"quint8\", np.uint8, 1)])\n",
            "/usr/local/lib/python3.6/dist-packages/tensorflow/python/framework/dtypes.py:528: FutureWarning: Passing (type, 1) or '1type' as a synonym of type is deprecated; in a future version of numpy, it will be understood as (type, (1,)) / '(1,)type'.\n",
            "  _np_qint16 = np.dtype([(\"qint16\", np.int16, 1)])\n",
            "/usr/local/lib/python3.6/dist-packages/tensorflow/python/framework/dtypes.py:529: FutureWarning: Passing (type, 1) or '1type' as a synonym of type is deprecated; in a future version of numpy, it will be understood as (type, (1,)) / '(1,)type'.\n",
            "  _np_quint16 = np.dtype([(\"quint16\", np.uint16, 1)])\n",
            "/usr/local/lib/python3.6/dist-packages/tensorflow/python/framework/dtypes.py:530: FutureWarning: Passing (type, 1) or '1type' as a synonym of type is deprecated; in a future version of numpy, it will be understood as (type, (1,)) / '(1,)type'.\n",
            "  _np_qint32 = np.dtype([(\"qint32\", np.int32, 1)])\n",
            "/usr/local/lib/python3.6/dist-packages/tensorflow/python/framework/dtypes.py:535: FutureWarning: Passing (type, 1) or '1type' as a synonym of type is deprecated; in a future version of numpy, it will be understood as (type, (1,)) / '(1,)type'.\n",
            "  np_resource = np.dtype([(\"resource\", np.ubyte, 1)])\n"
          ],
          "name": "stderr"
        },
        {
          "output_type": "stream",
          "text": [
            "130657\n"
          ],
          "name": "stdout"
        }
      ]
    },
    {
      "cell_type": "code",
      "metadata": {
        "id": "GPoaRPlMOMnQ",
        "colab_type": "code",
        "colab": {}
      },
      "source": [
        "word2idx=tokenizer.word_index"
      ],
      "execution_count": 0,
      "outputs": []
    },
    {
      "cell_type": "code",
      "metadata": {
        "id": "-Zkgz88EOSCu",
        "colab_type": "code",
        "outputId": "9a527d09-0847-4f6a-fe2d-28a4c419935c",
        "colab": {
          "base_uri": "https://localhost:8080/",
          "height": 34
        }
      },
      "source": [
        "word2idx['enron']"
      ],
      "execution_count": 0,
      "outputs": [
        {
          "output_type": "execute_result",
          "data": {
            "text/plain": [
              "14"
            ]
          },
          "metadata": {
            "tags": []
          },
          "execution_count": 9
        }
      ]
    },
    {
      "cell_type": "code",
      "metadata": {
        "id": "c0mshBx1X4ib",
        "colab_type": "code",
        "colab": {}
      },
      "source": [
        "content_seq=tokenizer.texts_to_sequences(train.content)\n",
        "subject_seq=tokenizer.texts_to_sequences(train.Subject)"
      ],
      "execution_count": 0,
      "outputs": []
    },
    {
      "cell_type": "code",
      "metadata": {
        "id": "TGTs_FhEaA9I",
        "colab_type": "code",
        "outputId": "7dd81396-f2da-4934-f002-e938124cab2a",
        "colab": {
          "base_uri": "https://localhost:8080/",
          "height": 34
        }
      },
      "source": [
        "print(train.Subject.iloc[0],subject_seq[0])"
      ],
      "execution_count": 0,
      "outputs": [
        {
          "output_type": "stream",
          "text": [
            "new notice from transwestern pipeline co. [53, 260, 23, 2174, 642, 689]\n"
          ],
          "name": "stdout"
        }
      ]
    },
    {
      "cell_type": "code",
      "metadata": {
        "id": "kM0h8uiFMHOm",
        "colab_type": "code",
        "outputId": "79832879-35ad-4e2b-eb66-6890b17b1a97",
        "colab": {
          "base_uri": "https://localhost:8080/",
          "height": 207
        }
      },
      "source": [
        "print(train.content.iloc[0],content_seq[0])"
      ],
      "execution_count": 0,
      "outputs": [
        {
          "output_type": "stream",
          "text": [
            "transwestern pipeline co. posted new notice(s) since our last check at \n",
            "12/13/2000 3:30:01 pm, the newest notice looks like:\n",
            "\n",
            " capacity constraint, dec 13 2000  4:03pm, dec 14 2000  9:00am, dec 15 2000  \n",
            "8:59am, 2241, allocation - san juan lateral\n",
            "\n",
            "please click the following to go to the web site for detail.\n",
            "\n",
            "http://ios.ets.enron.com/infopostings/shared/et_noncritical_notice.asp?company\n",
            "=60 [2174, 642, 689, 860, 53, 260, 76, 519, 46, 190, 380, 19, 97, 305, 89, 54, 68, 36, 139, 1, 4219, 260, 2213, 158, 449, 694, 305, 89, 40, 694, 247, 89, 132, 1464, 694, 145, 89, 122, 1891, 579, 1956, 3182, 20, 65, 1, 115, 2, 204, 2, 1, 149, 214, 6, 2245, 32, 1003, 14, 11, 2275, 688, 260, 254, 105, 1107]\n"
          ],
          "name": "stdout"
        }
      ]
    },
    {
      "cell_type": "code",
      "metadata": {
        "id": "CPMHx2DJaroQ",
        "colab_type": "code",
        "colab": {}
      },
      "source": [
        "from keras.preprocessing.sequence import pad_sequences\n",
        "content_pad = pad_sequences(content_seq, maxlen=content_len, padding='post', truncating='post')\n",
        "subject_pad = pad_sequences(subject_seq, maxlen=subject_len, padding='post', truncating='post')"
      ],
      "execution_count": 0,
      "outputs": []
    },
    {
      "cell_type": "code",
      "metadata": {
        "id": "lvU7yZbya7N5",
        "colab_type": "code",
        "outputId": "22b4b2cd-fbb1-4073-cc26-0728276e27cf",
        "colab": {
          "base_uri": "https://localhost:8080/",
          "height": 51
        }
      },
      "source": [
        "subject_pad[0]"
      ],
      "execution_count": 0,
      "outputs": [
        {
          "output_type": "execute_result",
          "data": {
            "text/plain": [
              "array([  53,  260,   23, 2174,  642,  689,    0,    0,    0,    0,    0,\n",
              "          0,    0,    0,    0], dtype=int32)"
            ]
          },
          "metadata": {
            "tags": []
          },
          "execution_count": 14
        }
      ]
    },
    {
      "cell_type": "code",
      "metadata": {
        "id": "gJ78zVXfb3dZ",
        "colab_type": "code",
        "outputId": "156e1f53-d6b4-4df1-f08a-40e8bcbfa535",
        "colab": {
          "base_uri": "https://localhost:8080/",
          "height": 34
        }
      },
      "source": [
        "decoder_outputs = np.zeros((len(test), subject_len, vocab_size), dtype='float32')\n",
        "decoder_outputs.shape"
      ],
      "execution_count": 0,
      "outputs": [
        {
          "output_type": "execute_result",
          "data": {
            "text/plain": [
              "(4431, 15, 5000)"
            ]
          },
          "metadata": {
            "tags": []
          },
          "execution_count": 15
        }
      ]
    },
    {
      "cell_type": "code",
      "metadata": {
        "id": "VRLqyvsTGwXa",
        "colab_type": "code",
        "outputId": "12a7bf40-d1bb-4bcf-ab85-1415caeaa45e",
        "colab": {
          "base_uri": "https://localhost:8080/",
          "height": 51
        }
      },
      "source": [
        "!unzip glove6b50dtxt.zip"
      ],
      "execution_count": 0,
      "outputs": [
        {
          "output_type": "stream",
          "text": [
            "Archive:  glove6b50dtxt.zip\n",
            "  inflating: glove.6B.50d.txt        \n"
          ],
          "name": "stdout"
        }
      ]
    },
    {
      "cell_type": "code",
      "metadata": {
        "id": "jEdNyEYwG-6i",
        "colab_type": "code",
        "outputId": "d74d7906-71b5-4dd0-ef7d-b0b4345119e1",
        "colab": {
          "base_uri": "https://localhost:8080/",
          "height": 68
        }
      },
      "source": [
        "ls"
      ],
      "execution_count": 0,
      "outputs": [
        {
          "output_type": "stream",
          "text": [
            "data.csv           glove6b200d.zip    HumanRating.ipynb\n",
            "email_cleaned.csv  glove.6B.50d.txt   test.csv\n",
            "email.ipynb        glove6b50dtxt.zip  train.csv\n"
          ],
          "name": "stdout"
        }
      ]
    },
    {
      "cell_type": "code",
      "metadata": {
        "id": "Q8dDl-cx4is0",
        "colab_type": "code",
        "colab": {}
      },
      "source": [
        "glove = {}\n",
        "with open('glove.6B.50d.txt') as f:\n",
        "    for line in f:\n",
        "        d = line.split()\n",
        "        word = d[0]\n",
        "        vec = np.asarray(d[1:], dtype='float32')\n",
        "        glove[word] = vec\n",
        "    f.close()"
      ],
      "execution_count": 0,
      "outputs": []
    },
    {
      "cell_type": "code",
      "metadata": {
        "id": "pOGslcuEPE_9",
        "colab_type": "code",
        "colab": {}
      },
      "source": [
        "idx2vec = np.zeros((len(word2idx), 50))\n",
        "for word, i in word2idx.items():\n",
        "  vec = glove.get(word)\n",
        "  if vec is not None:\n",
        "    idx2vec[i] = vec"
      ],
      "execution_count": 0,
      "outputs": []
    },
    {
      "cell_type": "code",
      "metadata": {
        "id": "klTT5EoARqRd",
        "colab_type": "code",
        "colab": {}
      },
      "source": [
        "import keras\n",
        "from keras import backend as k\n",
        "k.set_learning_phase(1)\n",
        "from keras.preprocessing.text import Tokenizer\n",
        "from keras import initializers\n",
        "from keras.optimizers import RMSprop\n",
        "from keras.models import Sequential,Model\n",
        "from keras.layers import TimeDistributed,Dense,LSTM,Dropout,Input,Activation,Add,concatenate, Embedding\n",
        "from keras.layers.advanced_activations import LeakyReLU,PReLU\n",
        "from keras.callbacks import ModelCheckpoint\n",
        "from keras.models import load_model\n",
        "from keras.optimizers import Adam\n",
        "from sklearn.model_selection import train_test_split\n",
        "\n"
      ],
      "execution_count": 0,
      "outputs": []
    },
    {
      "cell_type": "code",
      "metadata": {
        "id": "FIECNvl6SwTP",
        "colab_type": "code",
        "colab": {}
      },
      "source": [
        "n_units=50\n",
        "lr=0.01\n",
        "batch_size = 200\n",
        "epochs = 20"
      ],
      "execution_count": 0,
      "outputs": []
    },
    {
      "cell_type": "code",
      "metadata": {
        "id": "mi7zv3QlSTm2",
        "colab_type": "code",
        "outputId": "0dc4df61-0e6b-4d68-9aa2-af4375c6c72d",
        "colab": {
          "base_uri": "https://localhost:8080/",
          "height": 88
        }
      },
      "source": [
        "encoder_inputs = Input(shape=(content_len,))\n",
        "encoder_embedding = Embedding(input_dim = len(word2idx), \n",
        "                                    output_dim = n_units,\n",
        "                                    input_length = content_len,\n",
        "                                    weights = [idx2vec],\n",
        "                                    trainable = False)(encoder_inputs)\n",
        "encoder_outputs, state_h, state_c = LSTM(n_units, return_state=True)(encoder_embedding)\n",
        "encoder_outputs_R, state_h_R, state_c_R = LSTM(n_units, return_state=True, go_backwards=True)(encoder_embedding)\n",
        "final_h = Add()([state_h, state_h_R])\n",
        "final_c = Add()([state_c, state_c_R])\n",
        "encoder_states = [final_h, final_c]\n",
        "\n",
        "decoder_inputs = Input(shape=(subject_len,))\n",
        "decoder_embedding = Embedding(input_dim = len(word2idx), \n",
        "                                    output_dim = n_units,\n",
        "                                    input_length = subject_len,\n",
        "                                    weights = [idx2vec],\n",
        "                                    trainable = False)(decoder_inputs)\n",
        "decoder_LSTM = LSTM(n_units, return_sequences=True, return_state=True)\n",
        "decoder_outputs,_,_ = decoder_LSTM(decoder_embedding, initial_state=encoder_states)\n",
        "output = Dense(vocab_size, activation='linear')(decoder_outputs)\n",
        "model= Model(inputs=[encoder_inputs,decoder_inputs], outputs=output)\n"
      ],
      "execution_count": 0,
      "outputs": [
        {
          "output_type": "stream",
          "text": [
            "WARNING:tensorflow:From /usr/local/lib/python3.6/dist-packages/tensorflow/python/framework/op_def_library.py:263: colocate_with (from tensorflow.python.framework.ops) is deprecated and will be removed in a future version.\n",
            "Instructions for updating:\n",
            "Colocations handled automatically by placer.\n"
          ],
          "name": "stdout"
        }
      ]
    },
    {
      "cell_type": "code",
      "metadata": {
        "id": "xfxKoAGZYB7p",
        "colab_type": "code",
        "colab": {}
      },
      "source": [
        "rmsprop = RMSprop(lr=lr)\n",
        "model.compile(loss='mse', optimizer=rmsprop, metrics=[\"accuracy\"])"
      ],
      "execution_count": 0,
      "outputs": []
    },
    {
      "cell_type": "code",
      "metadata": {
        "id": "_TLHUAf9d09F",
        "colab_type": "code",
        "outputId": "3e67129b-88b9-4a2c-8beb-d6cf6eaf848c",
        "colab": {
          "base_uri": "https://localhost:8080/",
          "height": 561
        }
      },
      "source": [
        "print(model.summary())"
      ],
      "execution_count": 0,
      "outputs": [
        {
          "output_type": "stream",
          "text": [
            "__________________________________________________________________________________________________\n",
            "Layer (type)                    Output Shape         Param #     Connected to                     \n",
            "==================================================================================================\n",
            "input_1 (InputLayer)            (None, 300)          0                                            \n",
            "__________________________________________________________________________________________________\n",
            "embedding_1 (Embedding)         (None, 300, 50)      6532850     input_1[0][0]                    \n",
            "__________________________________________________________________________________________________\n",
            "input_2 (InputLayer)            (None, 15)           0                                            \n",
            "__________________________________________________________________________________________________\n",
            "lstm_1 (LSTM)                   [(None, 50), (None,  20200       embedding_1[0][0]                \n",
            "__________________________________________________________________________________________________\n",
            "lstm_2 (LSTM)                   [(None, 50), (None,  20200       embedding_1[0][0]                \n",
            "__________________________________________________________________________________________________\n",
            "embedding_2 (Embedding)         (None, 15, 50)       6532850     input_2[0][0]                    \n",
            "__________________________________________________________________________________________________\n",
            "add_1 (Add)                     (None, 50)           0           lstm_1[0][1]                     \n",
            "                                                                 lstm_2[0][1]                     \n",
            "__________________________________________________________________________________________________\n",
            "add_2 (Add)                     (None, 50)           0           lstm_1[0][2]                     \n",
            "                                                                 lstm_2[0][2]                     \n",
            "__________________________________________________________________________________________________\n",
            "lstm_3 (LSTM)                   [(None, 15, 50), (No 20200       embedding_2[0][0]                \n",
            "                                                                 add_1[0][0]                      \n",
            "                                                                 add_2[0][0]                      \n",
            "__________________________________________________________________________________________________\n",
            "dense_1 (Dense)                 (None, 15, 5000)     255000      lstm_3[0][0]                     \n",
            "==================================================================================================\n",
            "Total params: 13,381,300\n",
            "Trainable params: 315,600\n",
            "Non-trainable params: 13,065,700\n",
            "__________________________________________________________________________________________________\n",
            "None\n"
          ],
          "name": "stdout"
        }
      ]
    },
    {
      "cell_type": "code",
      "metadata": {
        "id": "9Fc69u9VeY1K",
        "colab_type": "code",
        "colab": {}
      },
      "source": [
        "c_train, c_valid, s_train, s_valid = train_test_split(content_pad, subject_pad, test_size=0.2)"
      ],
      "execution_count": 0,
      "outputs": []
    },
    {
      "cell_type": "code",
      "metadata": {
        "id": "GBmpMYaqfq5k",
        "colab_type": "code",
        "colab": {}
      },
      "source": [
        "num_samples = len(subject_pad)\n",
        "decoder_output_data = np.zeros((num_samples, subject_len, vocab_size), dtype=\"int32\")"
      ],
      "execution_count": 0,
      "outputs": []
    },
    {
      "cell_type": "code",
      "metadata": {
        "id": "9qKECkJbf2GZ",
        "colab_type": "code",
        "colab": {}
      },
      "source": [
        "for i, seqs in enumerate(subject_pad):\n",
        "    for j, seq in enumerate(seqs):\n",
        "        if j > 0:\n",
        "            decoder_output_data[i][j][seq] = 1"
      ],
      "execution_count": 0,
      "outputs": []
    },
    {
      "cell_type": "code",
      "metadata": {
        "id": "yY9sevI6f9l6",
        "colab_type": "code",
        "outputId": "6d4e2031-bda1-4d3e-9ac2-45f99e70fd3e",
        "colab": {
          "base_uri": "https://localhost:8080/",
          "height": 34
        }
      },
      "source": [
        "train_num = c_train.shape[0]\n",
        "train_num"
      ],
      "execution_count": 0,
      "outputs": [
        {
          "output_type": "execute_result",
          "data": {
            "text/plain": [
              "32162"
            ]
          },
          "metadata": {
            "tags": []
          },
          "execution_count": 27
        }
      ]
    },
    {
      "cell_type": "code",
      "metadata": {
        "id": "zzXzJeHWgEil",
        "colab_type": "code",
        "colab": {}
      },
      "source": [
        "target_train = decoder_output_data[:train_num]\n",
        "target_test = decoder_output_data[train_num:]"
      ],
      "execution_count": 0,
      "outputs": []
    },
    {
      "cell_type": "code",
      "metadata": {
        "id": "HRg_L3vdIAJ0",
        "colab_type": "code",
        "colab": {}
      },
      "source": [
        "filepath = \"model_weights_saved0428.h5\"\n",
        "checkpoint = ModelCheckpoint(filepath, monitor='loss', verbose=1, save_best_only=True, mode='min')\n",
        "desired_callbacks = [checkpoint]"
      ],
      "execution_count": 0,
      "outputs": []
    },
    {
      "cell_type": "code",
      "metadata": {
        "id": "Q7zdgQ_6eOa3",
        "colab_type": "code",
        "outputId": "9082bf22-0dc3-410d-cddb-42c355a8b9d1",
        "colab": {
          "base_uri": "https://localhost:8080/",
          "height": 836
        }
      },
      "source": [
        "history = model.fit([c_train, s_train], \n",
        "                     target_train, \n",
        "                     epochs=epochs, \n",
        "                     batch_size=batch_size,\n",
        "                     validation_data=([c_valid, s_valid], target_test))"
      ],
      "execution_count": 0,
      "outputs": [
        {
          "output_type": "stream",
          "text": [
            "WARNING:tensorflow:From /usr/local/lib/python3.6/dist-packages/tensorflow/python/ops/math_ops.py:3066: to_int32 (from tensorflow.python.ops.math_ops) is deprecated and will be removed in a future version.\n",
            "Instructions for updating:\n",
            "Use tf.cast instead.\n",
            "WARNING:tensorflow:From /usr/local/lib/python3.6/dist-packages/tensorflow/python/ops/math_grad.py:102: div (from tensorflow.python.ops.math_ops) is deprecated and will be removed in a future version.\n",
            "Instructions for updating:\n",
            "Deprecated in favor of operator or tf.math.divide.\n",
            "Train on 32162 samples, validate on 8041 samples\n",
            "Epoch 1/20\n",
            "32162/32162 [==============================] - 107s 3ms/step - loss: 1.8661e-04 - acc: 0.5240 - val_loss: 1.8652e-04 - val_acc: 0.5829\n",
            "Epoch 2/20\n",
            "32162/32162 [==============================] - 106s 3ms/step - loss: 1.1867e-04 - acc: 0.5324 - val_loss: 1.0283e-04 - val_acc: 0.5391\n",
            "Epoch 3/20\n",
            "32162/32162 [==============================] - 106s 3ms/step - loss: 1.0623e-04 - acc: 0.5000 - val_loss: 1.0228e-04 - val_acc: 0.5163\n",
            "Epoch 4/20\n",
            "32162/32162 [==============================] - 107s 3ms/step - loss: 1.0577e-04 - acc: 0.4983 - val_loss: 1.0190e-04 - val_acc: 0.5163\n",
            "Epoch 5/20\n",
            "32162/32162 [==============================] - 106s 3ms/step - loss: 1.0561e-04 - acc: 0.4983 - val_loss: 1.0416e-04 - val_acc: 0.5162\n",
            "Epoch 6/20\n",
            "32162/32162 [==============================] - 108s 3ms/step - loss: 1.0538e-04 - acc: 0.4990 - val_loss: 1.0325e-04 - val_acc: 0.5174\n",
            "Epoch 7/20\n",
            "32162/32162 [==============================] - 108s 3ms/step - loss: 1.0539e-04 - acc: 0.5014 - val_loss: 1.0183e-04 - val_acc: 0.5177\n",
            "Epoch 8/20\n",
            "32162/32162 [==============================] - 106s 3ms/step - loss: 1.0524e-04 - acc: 0.5021 - val_loss: 1.0187e-04 - val_acc: 0.5179\n",
            "Epoch 9/20\n",
            "32162/32162 [==============================] - 106s 3ms/step - loss: 1.0527e-04 - acc: 0.5024 - val_loss: 1.0183e-04 - val_acc: 0.5179\n",
            "Epoch 10/20\n",
            "32162/32162 [==============================] - 108s 3ms/step - loss: 1.0520e-04 - acc: 0.5025 - val_loss: 1.0297e-04 - val_acc: 0.5185\n",
            "Epoch 11/20\n",
            "32162/32162 [==============================] - 106s 3ms/step - loss: 1.0515e-04 - acc: 0.5020 - val_loss: 1.0300e-04 - val_acc: 0.5184\n",
            "Epoch 12/20\n",
            "32162/32162 [==============================] - 107s 3ms/step - loss: 1.0517e-04 - acc: 0.5018 - val_loss: 1.0294e-04 - val_acc: 0.5185\n",
            "Epoch 13/20\n",
            "32162/32162 [==============================] - 108s 3ms/step - loss: 1.0505e-04 - acc: 0.5013 - val_loss: 1.0181e-04 - val_acc: 0.5174\n",
            "Epoch 14/20\n",
            "32162/32162 [==============================] - 106s 3ms/step - loss: 1.0510e-04 - acc: 0.5004 - val_loss: 1.0336e-04 - val_acc: 0.5189\n",
            "Epoch 15/20\n",
            "32162/32162 [==============================] - 106s 3ms/step - loss: 1.0500e-04 - acc: 0.5017 - val_loss: 1.0225e-04 - val_acc: 0.5204\n",
            "Epoch 16/20\n",
            "32162/32162 [==============================] - 108s 3ms/step - loss: 1.0499e-04 - acc: 0.5026 - val_loss: 1.0182e-04 - val_acc: 0.5206\n",
            "Epoch 17/20\n",
            "32162/32162 [==============================] - 106s 3ms/step - loss: 1.0494e-04 - acc: 0.5027 - val_loss: 1.0191e-04 - val_acc: 0.5205\n",
            "Epoch 18/20\n",
            "32162/32162 [==============================] - 105s 3ms/step - loss: 1.0490e-04 - acc: 0.5027 - val_loss: 1.0250e-04 - val_acc: 0.5205\n",
            "Epoch 19/20\n",
            "32162/32162 [==============================] - 107s 3ms/step - loss: 1.0485e-04 - acc: 0.5027 - val_loss: 1.0176e-04 - val_acc: 0.5206\n",
            "Epoch 20/20\n",
            "32162/32162 [==============================] - 105s 3ms/step - loss: 1.0479e-04 - acc: 0.5027 - val_loss: 1.0185e-04 - val_acc: 0.5206\n"
          ],
          "name": "stdout"
        }
      ]
    },
    {
      "cell_type": "code",
      "metadata": {
        "id": "j-9kTUO7ShJD",
        "colab_type": "code",
        "outputId": "74e9cb93-af6a-435b-e184-df1936003331",
        "colab": {
          "base_uri": "https://localhost:8080/",
          "height": 71
        }
      },
      "source": [
        "model.save('model0428.h5')"
      ],
      "execution_count": 0,
      "outputs": [
        {
          "output_type": "stream",
          "text": [
            "/usr/local/lib/python3.6/dist-packages/keras/engine/network.py:877: UserWarning: Layer lstm_3 was passed non-serializable keyword arguments: {'initial_state': [<tf.Tensor 'add_1/add:0' shape=(?, 50) dtype=float32>, <tf.Tensor 'add_2/add:0' shape=(?, 50) dtype=float32>]}. They will not be included in the serialized model (and thus will be missing at deserialization time).\n",
            "  '. They will not be included '\n"
          ],
          "name": "stderr"
        }
      ]
    },
    {
      "cell_type": "code",
      "metadata": {
        "id": "HFIzETqygz_E",
        "colab_type": "code",
        "outputId": "285e7316-f3f9-4912-d222-7573b2f51483",
        "colab": {
          "base_uri": "https://localhost:8080/",
          "height": 404
        }
      },
      "source": [
        "plt.figure(figsize=(10, 6))\n",
        "plt.plot(history.history['acc'])\n",
        "plt.plot(history.history['val_acc'])\n",
        "plt.title('model accuracy')\n",
        "plt.ylabel('accuracy')\n",
        "plt.xlabel('epoch')\n",
        "plt.legend(['train', 'test'], loc='upper left')\n",
        "plt.show()"
      ],
      "execution_count": 0,
      "outputs": [
        {
          "output_type": "display_data",
          "data": {
            "image/png": "[encoded data removed]",
            "text/plain": [
              "<Figure size 720x432 with 1 Axes>"
            ]
          },
          "metadata": {
            "tags": [],
            "needs_background": "light"
          }
        }
      ]
    },
    {
      "cell_type": "code",
      "metadata": {
        "id": "AnKL51ZOhEDc",
        "colab_type": "code",
        "outputId": "8661bb00-1d10-4bbe-aa57-ab3a7d3f90d9",
        "colab": {
          "base_uri": "https://localhost:8080/",
          "height": 404
        }
      },
      "source": [
        "plt.figure(figsize=(10, 6))\n",
        "plt.plot(history.history['loss'])\n",
        "plt.plot(history.history['val_loss'])\n",
        "plt.title('model loss')\n",
        "plt.ylabel('loss')\n",
        "plt.xlabel('epoch')\n",
        "plt.legend(['train', 'test'], loc='upper left')\n",
        "plt.show()"
      ],
      "execution_count": 0,
      "outputs": [
        {
          "output_type": "display_data",
          "data": {
            "image/png": "[encoded data removed]",
            "text/plain": [
              "<Figure size 720x432 with 1 Axes>"
            ]
          },
          "metadata": {
            "tags": [],
            "needs_background": "light"
          }
        }
      ]
    },
    {
      "cell_type": "code",
      "metadata": {
        "id": "N4kA_cB-hTiK",
        "colab_type": "code",
        "colab": {}
      },
      "source": [
        "from keras.models import load_model\n",
        "model3=load_model('model0428.h5')"
      ],
      "execution_count": 0,
      "outputs": []
    },
    {
      "cell_type": "code",
      "metadata": {
        "id": "wRl_bXpZhi8q",
        "colab_type": "code",
        "outputId": "873bf1b5-8ed3-445d-be7d-eef3575a79cf",
        "colab": {
          "base_uri": "https://localhost:8080/",
          "height": 34
        }
      },
      "source": [
        "result = model3.predict([c_valid, s_valid], verbose=1)\n"
      ],
      "execution_count": 0,
      "outputs": [
        {
          "output_type": "stream",
          "text": [
            "8041/8041 [==============================] - 16s 2ms/step\n"
          ],
          "name": "stdout"
        }
      ]
    },
    {
      "cell_type": "code",
      "metadata": {
        "id": "TpBlrsRECel5",
        "colab_type": "code",
        "outputId": "14004adb-36e8-4f47-fa83-de98c2504311",
        "colab": {
          "base_uri": "https://localhost:8080/",
          "height": 34
        }
      },
      "source": [
        "s_valid.shape"
      ],
      "execution_count": 0,
      "outputs": [
        {
          "output_type": "execute_result",
          "data": {
            "text/plain": [
              "(8041, 15)"
            ]
          },
          "metadata": {
            "tags": []
          },
          "execution_count": 35
        }
      ]
    },
    {
      "cell_type": "code",
      "metadata": {
        "id": "Q6JVRQJHid_S",
        "colab_type": "code",
        "colab": {}
      },
      "source": [
        "trans=np.argmax(result,axis=2)"
      ],
      "execution_count": 0,
      "outputs": []
    },
    {
      "cell_type": "code",
      "metadata": {
        "id": "HPPQWMOk_G_F",
        "colab_type": "code",
        "outputId": "9cd04abe-2ab7-47da-cca5-fbcfcd3f7bf2",
        "colab": {
          "base_uri": "https://localhost:8080/",
          "height": 34
        }
      },
      "source": [
        "trans.shape"
      ],
      "execution_count": 0,
      "outputs": [
        {
          "output_type": "execute_result",
          "data": {
            "text/plain": [
              "(8041, 15)"
            ]
          },
          "metadata": {
            "tags": []
          },
          "execution_count": 37
        }
      ]
    },
    {
      "cell_type": "code",
      "metadata": {
        "id": "Rl0vpwQn8rRA",
        "colab_type": "code",
        "colab": {}
      },
      "source": [
        "idx2word={v: k for k, v in word2idx.items()}"
      ],
      "execution_count": 0,
      "outputs": []
    },
    {
      "cell_type": "code",
      "metadata": {
        "id": "i45W63nP_lPK",
        "colab_type": "code",
        "colab": {}
      },
      "source": [
        "out=np.vectorize(idx2word.get)(trans)"
      ],
      "execution_count": 0,
      "outputs": []
    },
    {
      "cell_type": "code",
      "metadata": {
        "id": "KkxwHfqwB0iy",
        "colab_type": "code",
        "colab": {}
      },
      "source": [
        "def model4(data):\n",
        "  email_seq=tokenizer.texts_to_sequences(data)\n",
        "  print(email_seq)"
      ],
      "execution_count": 0,
      "outputs": []
    },
    {
      "cell_type": "code",
      "metadata": {
        "id": "qOZUEdpx9Y-3",
        "colab_type": "code",
        "outputId": "44021a29-63fd-444a-aabe-faf8ca496d02",
        "colab": {
          "base_uri": "https://localhost:8080/",
          "height": 34
        }
      },
      "source": [
        "len(result[4][2])"
      ],
      "execution_count": 0,
      "outputs": [
        {
          "output_type": "execute_result",
          "data": {
            "text/plain": [
              "10000"
            ]
          },
          "metadata": {
            "tags": []
          },
          "execution_count": 39
        }
      ]
    },
    {
      "cell_type": "code",
      "metadata": {
        "id": "xF8bMn7V9CzI",
        "colab_type": "code",
        "outputId": "e4eee0c1-4f0c-4ac8-fc83-16f2549f88e6",
        "colab": {
          "base_uri": "https://localhost:8080/",
          "height": 34
        }
      },
      "source": [
        "idx2word[5]"
      ],
      "execution_count": 0,
      "outputs": [
        {
          "output_type": "execute_result",
          "data": {
            "text/plain": [
              "'for'"
            ]
          },
          "metadata": {
            "tags": []
          },
          "execution_count": 49
        }
      ]
    },
    {
      "cell_type": "code",
      "metadata": {
        "id": "Y9pHYS47zCxl",
        "colab_type": "code",
        "outputId": "5dedf241-0de8-466e-a4fd-c9de83884ff6",
        "colab": {
          "base_uri": "https://localhost:8080/",
          "height": 119
        }
      },
      "source": [
        "test['result1']=test['content'].apply(lambda x:model1(x))"
      ],
      "execution_count": 0,
      "outputs": [
        {
          "output_type": "stream",
          "text": [
            "/usr/local/lib/python3.6/dist-packages/ipykernel_launcher.py:1: SettingWithCopyWarning: \n",
            "A value is trying to be set on a copy of a slice from a DataFrame.\n",
            "Try using .loc[row_indexer,col_indexer] = value instead\n",
            "\n",
            "See the caveats in the documentation: https://pandas.pydata.org/pandas-docs/stable/user_guide/indexing.html#returning-a-view-versus-a-copy\n",
            "  \"\"\"Entry point for launching an IPython kernel.\n"
          ],
          "name": "stderr"
        }
      ]
    },
    {
      "cell_type": "code",
      "metadata": {
        "id": "nS3wONHP0VsJ",
        "colab_type": "code",
        "outputId": "8ce80f0b-3d40-4fdd-a864-c0aeb559c766",
        "colab": {
          "base_uri": "https://localhost:8080/",
          "height": 221
        }
      },
      "source": [
        "test['result1']"
      ],
      "execution_count": 0,
      "outputs": [
        {
          "output_type": "execute_result",
          "data": {
            "text/plain": [
              "165               has been  placed on hold for you Phillip\n",
              "250                                            Mr Shankman\n",
              "306      Good MorningJust a reminder to get your AGA es...\n",
              "385            Knowledge@Wharton Newsletterhttp//knowledge\n",
              "430                       =09     Dear  Amazoncom Customer\n",
              "                               ...                        \n",
              "62851    The Approval status has changed on the followi...\n",
              "62885                  =09 =09    Dear Andrew  On Thursday\n",
              "62897    THE STANDISH GROUP - TOUCH OF CHAOS 2002Dear A...\n",
              "62982    EnronOnlineTrade Counts and Volume for April 3...\n",
              "63019    Small issue but annoyingIf try to modify a plo...\n",
              "Name: result1, Length: 622, dtype: object"
            ]
          },
          "metadata": {
            "tags": []
          },
          "execution_count": 9
        }
      ]
    },
    {
      "cell_type": "code",
      "metadata": {
        "id": "m337vLNDdxZK",
        "colab_type": "code",
        "outputId": "d3a4bf57-da9f-4c28-a6ee-43688a5ce906",
        "colab": {
          "base_uri": "https://localhost:8080/",
          "height": 119
        }
      },
      "source": [
        "test['result2']=test['content'].apply(lambda x:model2(x))"
      ],
      "execution_count": 0,
      "outputs": [
        {
          "output_type": "stream",
          "text": [
            "/usr/local/lib/python3.6/dist-packages/ipykernel_launcher.py:1: SettingWithCopyWarning: \n",
            "A value is trying to be set on a copy of a slice from a DataFrame.\n",
            "Try using .loc[row_indexer,col_indexer] = value instead\n",
            "\n",
            "See the caveats in the documentation: https://pandas.pydata.org/pandas-docs/stable/user_guide/indexing.html#returning-a-view-versus-a-copy\n",
            "  \"\"\"Entry point for launching an IPython kernel.\n"
          ],
          "name": "stderr"
        }
      ]
    },
    {
      "cell_type": "code",
      "metadata": {
        "id": "SJVcgT_vkEqu",
        "colab_type": "code",
        "outputId": "da81e178-b75a-4f11-e18c-da379b2ec1fd",
        "colab": {
          "base_uri": "https://localhost:8080/",
          "height": 221
        }
      },
      "source": [
        "test['result2']"
      ],
      "execution_count": 0,
      "outputs": [
        {
          "output_type": "execute_result",
          "data": {
            "text/plain": [
              "165      Just click here   to find out how to receive y...\n",
              "250      In preparation for the meeting on December 11t...\n",
              "306      Ce message et toutes les pieces jointes (ci-ap...\n",
              "385           Knowledge@Wharton Newsletterhttp://knowledge\n",
              "430                                           Dear  Amazon\n",
              "                               ...                        \n",
              "62851    The Approval status has changed on the followi...\n",
              "62885    nergy and Williams Energy, the parent company ...\n",
              "62897    YOU ARE CORDIALLY INVITED TO PARTICIPATE IN A ...\n",
              "62982    USA\\tCrude\\tFinancial\\t      169 \\t      8,505...\n",
              "63019    If try to modify a plo by going to the line an...\n",
              "Name: result2, Length: 622, dtype: object"
            ]
          },
          "metadata": {
            "tags": []
          },
          "execution_count": 22
        }
      ]
    },
    {
      "cell_type": "code",
      "metadata": {
        "id": "Lkzd-luKkJxb",
        "colab_type": "code",
        "colab": {}
      },
      "source": [
        "test.to_csv('result.csv')"
      ],
      "execution_count": 0,
      "outputs": []
    },
    {
      "cell_type": "code",
      "metadata": {
        "id": "7aVmf1G35XHm",
        "colab_type": "code",
        "outputId": "d35c0ee8-de5c-48d0-9442-dfbcc4747a76",
        "colab": {
          "base_uri": "https://localhost:8080/",
          "height": 1000
        }
      },
      "source": [
        "testsize=10\n",
        "r1,r2,r3,r4=[],[],[],[]\n",
        "print(\"0=bad,1=good\\n\")\n",
        "sample=test.sample(testsize)\n",
        "for i in range(testsize):\n",
        "  print(\"/////////////////Content://////////////////////////////\\n\",sample.content.iloc[i][:500])\n",
        "  print(\"///////////////////////////////////////////////////////\")\n",
        "  print(\"************Subject line 1:*********\\n\",sample.result1.iloc[i])\n",
        "  print(\"***************************************************\")\n",
        "  print(\"Score:\")\n",
        "  r1.append(int(input()))\n",
        "  print(\"************Subject line 2:*********\\n\",sample.result2.iloc[i])\n",
        "  print(\"***************************************************\")\n",
        "  print(\"Score:\")\n",
        "  r2.append(int(input()))\n",
        "  print(\"************Subject line 3:*********\\n\",sample.result1.iloc[i])\n",
        "  print(\"***************************************************\")\n",
        "  print(\"Score:\")\n",
        "  r3.append(int(input()))\n",
        "  print(\"************Subject line 4:*********\\n\",sample.Subject.iloc[i])\n",
        "  print(\"***************************************************\")\n",
        "  print(\"Score:\")\n",
        "  r4.append(int(input()))\n",
        "  \n",
        "print(\"final result model1:\",sum(r1))\n",
        "print(\"final result model2:\",sum(r2))\n",
        "print(\"final result model3:\",sum(r3))\n",
        "print(\"final result model3:\",sum(r4))"
      ],
      "execution_count": 0,
      "outputs": [
        {
          "output_type": "stream",
          "text": [
            "0=bad,1=good\n",
            "\n",
            "/////////////////Content://////////////////////////////\n",
            " Dear Power Outage Database Customer,\n",
            "\n",
            "Attached you will find an excel document. The outages contained within\n",
            "are forced or rescheduled outages. Your daily delivery will still\n",
            "contain these outages.\n",
            "\n",
            "In addition to the two excel documents, there is a dbf file that is\n",
            "formatted like your daily deliveries you receive nightly. This will\n",
            "enable you to load the data into your regular database. Any questions\n",
            "please let me know.\n",
            "Thanks.\n",
            "\n",
            "Greg Elliott\n",
            "IIR, Inc.\n",
            "713-783-5147 x 3481\n",
            "outages@industrialinfo.\n",
            "///////////////////////////////////////////////////////\n",
            "************Subject line 1:*********\n",
            " Dear Power Outage Database CustomerAttached you will find an excel document\n",
            "***************************************************\n",
            "Score:\n",
            "1\n",
            "************Subject line 2:*********\n",
            " The outages contained within\n",
            "contain these outages\n",
            "***************************************************\n",
            "Score:\n",
            "1\n",
            "************Subject line 3:*********\n",
            " Dear Power Outage Database CustomerAttached you will find an excel document\n",
            "***************************************************\n",
            "Score:\n",
            "1\n",
            "************Subject line 4:*********\n",
            " WSCC (Diablo Canyon)  MAAC (Indian River)  MAPP (Gerald Gentleman)\n",
            "  NPCC  (Ravenswood)\n",
            "***************************************************\n",
            "Score:\n",
            "1\n",
            "/////////////////Content://////////////////////////////\n",
            " Confirming earlier indications, at about 3 pm EDT today, Chairman Tauzin \n",
            "convened the committee to issue a joint statement with Rep. Waxman and then \n",
            "recessed the committee subject to the call of the chair following the \n",
            "Memorial Day Week Recess.  Congress will not return until the week of June 4, \n",
            "but staff level discussions will likely occur after the three-day weekend.\n",
            "\n",
            "Chairman Tauzin said that the committee is receiving conflicting information \n",
            "on the facts in California.  He said it is be\n",
            "///////////////////////////////////////////////////////\n",
            "************Subject line 1:*********\n",
            " Confirming earlier indications at about 3 pm EDT today\n",
            "***************************************************\n",
            "Score:\n",
            "1\n",
            "************Subject line 2:*********\n",
            " convened the committee to issue a joint statement with Rep\n",
            "***************************************************\n",
            "Score:\n",
            "1\n",
            "************Subject line 3:*********\n",
            " Confirming earlier indications at about 3 pm EDT today\n",
            "***************************************************\n",
            "Score:\n",
            "1\n",
            "************Subject line 4:*********\n",
            " Report on Energy and Commerce Status (Ignore Earlier E-Mail That\n",
            " Was Not Complete)\n",
            "***************************************************\n",
            "Score:\n",
            "1\n",
            "/////////////////Content://////////////////////////////\n",
            " Thanks so much for your most generous gift to complete the funding for the\n",
            "professorship honoring Pinkney Walker.  I'm delighted that you plan to\n",
            "attend the Davenport Society banquet on October 13.\n",
            "\n",
            "The purpose of this e-mail, which Rosalee suggested as the most efficient\n",
            "way of reaching you, is two-fold:\n",
            "\n",
            "     1. To seek your endorsement of naming the new professorship the Pinkney\n",
            "C. Walker Distinguished Teaching Professorship.  Rather than designating the\n",
            "professorship for Business and Economi\n",
            "///////////////////////////////////////////////////////\n",
            "************Subject line 1:*********\n",
            " Thanks so much for your most generous gift to complete the funding for theprofessorship honoring Pinkney Walker  I'm delighted that you plan toattend the Davenport Society banquet on October 13\n",
            "***************************************************\n",
            "Score:\n",
            "1\n",
            "************Subject line 2:*********\n",
            " Thanks so much for your most generous gift to complete the funding for the\n",
            "professorship honoring Pinkney Walker\n",
            "***************************************************\n",
            "Score:\n",
            "1\n",
            "************Subject line 3:*********\n",
            " Thanks so much for your most generous gift to complete the funding for theprofessorship honoring Pinkney Walker  I'm delighted that you plan toattend the Davenport Society banquet on October 13\n",
            "***************************************************\n",
            "Score:\n",
            "1\n",
            "************Subject line 4:*********\n",
            " P. Walker professorship and keynote request\n",
            "***************************************************\n",
            "Score:\n",
            "1\n",
            "/////////////////Content://////////////////////////////\n",
            " In order to bring better legal coordination and standardization to Enron's Risk Assessment and Control (RAC) group, we have formed a new legal group, which will initially include Lisa Mellencamp (Finance), Marcus Nettelton (Power Trading), Carol St. Clair (Broadband/Power Trading), Mary Cook (Financial Swaps), Peter Keohane (Canada), Ed Essandoh (Retail), Paul Darmitzel (Retail) and Elizabeth Sager (Power Trading) (Team Leader).  This group will focus on, among other things, managing Enron's exp\n",
            "///////////////////////////////////////////////////////\n",
            "************Subject line 1:*********\n",
            " In order to bring better legal coordination and standardization to Enron's Risk Assessment and Control (RAC) group we have formed a new legal group\n",
            "***************************************************\n",
            "Score:\n",
            "1\n",
            "************Subject line 2:*********\n",
            " In order to bring better legal coordination and standardization to Enron's Risk Assessment and Control (RAC) group, we have formed a new legal group, which will initially include Lisa Mellencamp (Finance), Marcus Nettelton (Power Trading), Carol St\n",
            "***************************************************\n",
            "Score:\n",
            "1\n",
            "************Subject line 3:*********\n",
            " In order to bring better legal coordination and standardization to Enron's Risk Assessment and Control (RAC) group we have formed a new legal group\n",
            "***************************************************\n",
            "Score:\n",
            "1\n",
            "************Subject line 4:*********\n",
            " New Legal Team to Assist RAC\n",
            "***************************************************\n",
            "Score:\n",
            "1\n",
            "/////////////////Content://////////////////////////////\n",
            " The information contained herein is based on sources that we believe to be\n",
            "reliable, but we do not represent that it is accurate or complete.  Nothing\n",
            "contained herein should be considered as an offer to sell or a solicitation\n",
            "of an offer to buy any financial instruments discussed herein.  Any\n",
            "opinions expressed herein are solely those of the author.  As such, they\n",
            "may differ in material respects from those of, or expressed or published by\n",
            "on behalf of Carr Futures or its officers, directors, em\n",
            "///////////////////////////////////////////////////////\n",
            "************Subject line 1:*********\n",
            " The information contained herein is based on sources that we believe to bereliable but we do not represent that it is accurate or complete\n",
            "***************************************************\n",
            "Score:\n",
            "1\n",
            "************Subject line 2:*********\n",
            " contained herein should be considered as an offer to sell or a solicitation\n",
            "contained in this email\n",
            "***************************************************\n",
            "Score:\n",
            "1\n",
            "************Subject line 3:*********\n",
            " The information contained herein is based on sources that we believe to bereliable but we do not represent that it is accurate or complete\n",
            "***************************************************\n",
            "Score:\n",
            "1\n",
            "************Subject line 4:*********\n",
            " crude & product spreads and heat & gas cracks as hot links\n",
            "***************************************************\n",
            "Score:\n",
            "1\n",
            "/////////////////Content://////////////////////////////\n",
            " Enron recently introduced its Global Information System (GIS) as the first of \n",
            "a series of activities designed to enhance and improve the accuracy and \n",
            "accessibility of employee data. 4,578 employees responded and provided \n",
            "up-to-date information on themselves.  This represents a response of \n",
            "approximately 55% of the employees asked to participate. \n",
            "\n",
            " Accurate data will play an important role in several key company-wide \n",
            "initiatives in the coming months, such as the SAP implementation and an \n",
            "ex\n",
            "///////////////////////////////////////////////////////\n",
            "************Subject line 1:*********\n",
            " Enron recently introduced its Global Information System (GIS) as the first of a series of activities designed to enhance and improve the accuracy and accessibility of employee data 4\n",
            "***************************************************\n",
            "Score:\n",
            "1\n",
            "************Subject line 2:*********\n",
            " Enron recently introduced its Global Information System (GIS) as the first of \n",
            "accessibility of employee data\n",
            "***************************************************\n",
            "Score:\n",
            "1\n",
            "************Subject line 3:*********\n",
            " Enron recently introduced its Global Information System (GIS) as the first of a series of activities designed to enhance and improve the accuracy and accessibility of employee data 4\n",
            "***************************************************\n",
            "Score:\n",
            "1\n",
            "************Subject line 4:*********\n",
            " ENRON HR DATA - UPDATE YOURSELF\n",
            "***************************************************\n",
            "Score:\n",
            "1\n",
            "/////////////////Content://////////////////////////////\n",
            " This morning I was notified by Confirms in Houston that one of the deal \n",
            "changes I made last night didn't come through on their side. If you refer to \n",
            "the Deal Correction Report from yesterday, Mike Swerzbin did a deal with EES \n",
            "for Cal'03 that he mistakenly entered twice, once for Cal'03 (571920) and \n",
            "once for Cal'02 (571801). He killed 571920 and kept 571801, but the trade was \n",
            "actually for Cal'03. (Is everyone still with me?) So I restored 571920 and \n",
            "killed 571801 to reverse what he had done\n",
            "///////////////////////////////////////////////////////\n",
            "************Subject line 1:*********\n",
            " This morning I was notified by Confirms in Houston that one of the deal changes I made last night didn't come through on their side If you refer to the Deal Correction Report from yesterday\n",
            "***************************************************\n",
            "Score:\n",
            "1\n",
            "************Subject line 2:*********\n",
            " the Deal Correction Report from yesterday, Mike Swerzbin did a deal with EES \n",
            "once for Cal'02 (571801)\n",
            "***************************************************\n",
            "Score:\n",
            "1\n",
            "************Subject line 3:*********\n",
            " This morning I was notified by Confirms in Houston that one of the deal changes I made last night didn't come through on their side If you refer to the Deal Correction Report from yesterday\n",
            "***************************************************\n",
            "Score:\n",
            "1\n",
            "************Subject line 4:*********\n",
            " Deal Change - Revision of last night's Deal Correction Report\n",
            "***************************************************\n",
            "Score:\n"
          ],
          "name": "stdout"
        },
        {
          "output_type": "error",
          "ename": "KeyboardInterrupt",
          "evalue": "ignored",
          "traceback": [
            "\u001b[0;31m---------------------------------------------------------------------------\u001b[0m",
            "\u001b[0;31mKeyboardInterrupt\u001b[0m                         Traceback (most recent call last)",
            "\u001b[0;32m/usr/local/lib/python3.6/dist-packages/ipykernel/kernelbase.py\u001b[0m in \u001b[0;36m_input_request\u001b[0;34m(self, prompt, ident, parent, password)\u001b[0m\n\u001b[1;32m    728\u001b[0m             \u001b[0;32mtry\u001b[0m\u001b[0;34m:\u001b[0m\u001b[0;34m\u001b[0m\u001b[0;34m\u001b[0m\u001b[0m\n\u001b[0;32m--> 729\u001b[0;31m                 \u001b[0mident\u001b[0m\u001b[0;34m,\u001b[0m \u001b[0mreply\u001b[0m \u001b[0;34m=\u001b[0m \u001b[0mself\u001b[0m\u001b[0;34m.\u001b[0m\u001b[0msession\u001b[0m\u001b[0;34m.\u001b[0m\u001b[0mrecv\u001b[0m\u001b[0;34m(\u001b[0m\u001b[0mself\u001b[0m\u001b[0;34m.\u001b[0m\u001b[0mstdin_socket\u001b[0m\u001b[0;34m,\u001b[0m \u001b[0;36m0\u001b[0m\u001b[0;34m)\u001b[0m\u001b[0;34m\u001b[0m\u001b[0;34m\u001b[0m\u001b[0m\n\u001b[0m\u001b[1;32m    730\u001b[0m             \u001b[0;32mexcept\u001b[0m \u001b[0mException\u001b[0m\u001b[0;34m:\u001b[0m\u001b[0;34m\u001b[0m\u001b[0;34m\u001b[0m\u001b[0m\n",
            "\u001b[0;32m/usr/local/lib/python3.6/dist-packages/jupyter_client/session.py\u001b[0m in \u001b[0;36mrecv\u001b[0;34m(self, socket, mode, content, copy)\u001b[0m\n\u001b[1;32m    802\u001b[0m         \u001b[0;32mtry\u001b[0m\u001b[0;34m:\u001b[0m\u001b[0;34m\u001b[0m\u001b[0;34m\u001b[0m\u001b[0m\n\u001b[0;32m--> 803\u001b[0;31m             \u001b[0mmsg_list\u001b[0m \u001b[0;34m=\u001b[0m \u001b[0msocket\u001b[0m\u001b[0;34m.\u001b[0m\u001b[0mrecv_multipart\u001b[0m\u001b[0;34m(\u001b[0m\u001b[0mmode\u001b[0m\u001b[0;34m,\u001b[0m \u001b[0mcopy\u001b[0m\u001b[0;34m=\u001b[0m\u001b[0mcopy\u001b[0m\u001b[0;34m)\u001b[0m\u001b[0;34m\u001b[0m\u001b[0;34m\u001b[0m\u001b[0m\n\u001b[0m\u001b[1;32m    804\u001b[0m         \u001b[0;32mexcept\u001b[0m \u001b[0mzmq\u001b[0m\u001b[0;34m.\u001b[0m\u001b[0mZMQError\u001b[0m \u001b[0;32mas\u001b[0m \u001b[0me\u001b[0m\u001b[0;34m:\u001b[0m\u001b[0;34m\u001b[0m\u001b[0;34m\u001b[0m\u001b[0m\n",
            "\u001b[0;32m/usr/local/lib/python3.6/dist-packages/zmq/sugar/socket.py\u001b[0m in \u001b[0;36mrecv_multipart\u001b[0;34m(self, flags, copy, track)\u001b[0m\n\u001b[1;32m    474\u001b[0m         \"\"\"\n\u001b[0;32m--> 475\u001b[0;31m         \u001b[0mparts\u001b[0m \u001b[0;34m=\u001b[0m \u001b[0;34m[\u001b[0m\u001b[0mself\u001b[0m\u001b[0;34m.\u001b[0m\u001b[0mrecv\u001b[0m\u001b[0;34m(\u001b[0m\u001b[0mflags\u001b[0m\u001b[0;34m,\u001b[0m \u001b[0mcopy\u001b[0m\u001b[0;34m=\u001b[0m\u001b[0mcopy\u001b[0m\u001b[0;34m,\u001b[0m \u001b[0mtrack\u001b[0m\u001b[0;34m=\u001b[0m\u001b[0mtrack\u001b[0m\u001b[0;34m)\u001b[0m\u001b[0;34m]\u001b[0m\u001b[0;34m\u001b[0m\u001b[0;34m\u001b[0m\u001b[0m\n\u001b[0m\u001b[1;32m    476\u001b[0m         \u001b[0;31m# have first part already, only loop while more to receive\u001b[0m\u001b[0;34m\u001b[0m\u001b[0;34m\u001b[0m\u001b[0;34m\u001b[0m\u001b[0m\n",
            "\u001b[0;32mzmq/backend/cython/socket.pyx\u001b[0m in \u001b[0;36mzmq.backend.cython.socket.Socket.recv\u001b[0;34m()\u001b[0m\n",
            "\u001b[0;32mzmq/backend/cython/socket.pyx\u001b[0m in \u001b[0;36mzmq.backend.cython.socket.Socket.recv\u001b[0;34m()\u001b[0m\n",
            "\u001b[0;32mzmq/backend/cython/socket.pyx\u001b[0m in \u001b[0;36mzmq.backend.cython.socket._recv_copy\u001b[0;34m()\u001b[0m\n",
            "\u001b[0;32m/usr/local/lib/python3.6/dist-packages/zmq/backend/cython/checkrc.pxd\u001b[0m in \u001b[0;36mzmq.backend.cython.checkrc._check_rc\u001b[0;34m()\u001b[0m\n",
            "\u001b[0;31mKeyboardInterrupt\u001b[0m: ",
            "\nDuring handling of the above exception, another exception occurred:\n",
            "\u001b[0;31mKeyboardInterrupt\u001b[0m                         Traceback (most recent call last)",
            "\u001b[0;32m<ipython-input-25-48d34c12058a>\u001b[0m in \u001b[0;36m<module>\u001b[0;34m()\u001b[0m\n\u001b[1;32m     21\u001b[0m   \u001b[0mprint\u001b[0m\u001b[0;34m(\u001b[0m\u001b[0;34m\"***************************************************\"\u001b[0m\u001b[0;34m)\u001b[0m\u001b[0;34m\u001b[0m\u001b[0;34m\u001b[0m\u001b[0m\n\u001b[1;32m     22\u001b[0m   \u001b[0mprint\u001b[0m\u001b[0;34m(\u001b[0m\u001b[0;34m\"Score:\"\u001b[0m\u001b[0;34m)\u001b[0m\u001b[0;34m\u001b[0m\u001b[0;34m\u001b[0m\u001b[0m\n\u001b[0;32m---> 23\u001b[0;31m   \u001b[0mr4\u001b[0m\u001b[0;34m.\u001b[0m\u001b[0mappend\u001b[0m\u001b[0;34m(\u001b[0m\u001b[0mint\u001b[0m\u001b[0;34m(\u001b[0m\u001b[0minput\u001b[0m\u001b[0;34m(\u001b[0m\u001b[0;34m)\u001b[0m\u001b[0;34m)\u001b[0m\u001b[0;34m)\u001b[0m\u001b[0;34m\u001b[0m\u001b[0;34m\u001b[0m\u001b[0m\n\u001b[0m\u001b[1;32m     24\u001b[0m \u001b[0;34m\u001b[0m\u001b[0m\n\u001b[1;32m     25\u001b[0m \u001b[0mprint\u001b[0m\u001b[0;34m(\u001b[0m\u001b[0;34m\"final result model1:\"\u001b[0m\u001b[0;34m,\u001b[0m\u001b[0msum\u001b[0m\u001b[0;34m(\u001b[0m\u001b[0mr1\u001b[0m\u001b[0;34m)\u001b[0m\u001b[0;34m)\u001b[0m\u001b[0;34m\u001b[0m\u001b[0;34m\u001b[0m\u001b[0m\n",
            "\u001b[0;32m/usr/local/lib/python3.6/dist-packages/ipykernel/kernelbase.py\u001b[0m in \u001b[0;36mraw_input\u001b[0;34m(self, prompt)\u001b[0m\n\u001b[1;32m    702\u001b[0m             \u001b[0mself\u001b[0m\u001b[0;34m.\u001b[0m\u001b[0m_parent_ident\u001b[0m\u001b[0;34m,\u001b[0m\u001b[0;34m\u001b[0m\u001b[0;34m\u001b[0m\u001b[0m\n\u001b[1;32m    703\u001b[0m             \u001b[0mself\u001b[0m\u001b[0;34m.\u001b[0m\u001b[0m_parent_header\u001b[0m\u001b[0;34m,\u001b[0m\u001b[0;34m\u001b[0m\u001b[0;34m\u001b[0m\u001b[0m\n\u001b[0;32m--> 704\u001b[0;31m             \u001b[0mpassword\u001b[0m\u001b[0;34m=\u001b[0m\u001b[0;32mFalse\u001b[0m\u001b[0;34m,\u001b[0m\u001b[0;34m\u001b[0m\u001b[0;34m\u001b[0m\u001b[0m\n\u001b[0m\u001b[1;32m    705\u001b[0m         )\n\u001b[1;32m    706\u001b[0m \u001b[0;34m\u001b[0m\u001b[0m\n",
            "\u001b[0;32m/usr/local/lib/python3.6/dist-packages/ipykernel/kernelbase.py\u001b[0m in \u001b[0;36m_input_request\u001b[0;34m(self, prompt, ident, parent, password)\u001b[0m\n\u001b[1;32m    732\u001b[0m             \u001b[0;32mexcept\u001b[0m \u001b[0mKeyboardInterrupt\u001b[0m\u001b[0;34m:\u001b[0m\u001b[0;34m\u001b[0m\u001b[0;34m\u001b[0m\u001b[0m\n\u001b[1;32m    733\u001b[0m                 \u001b[0;31m# re-raise KeyboardInterrupt, to truncate traceback\u001b[0m\u001b[0;34m\u001b[0m\u001b[0;34m\u001b[0m\u001b[0;34m\u001b[0m\u001b[0m\n\u001b[0;32m--> 734\u001b[0;31m                 \u001b[0;32mraise\u001b[0m \u001b[0mKeyboardInterrupt\u001b[0m\u001b[0;34m\u001b[0m\u001b[0;34m\u001b[0m\u001b[0m\n\u001b[0m\u001b[1;32m    735\u001b[0m             \u001b[0;32melse\u001b[0m\u001b[0;34m:\u001b[0m\u001b[0;34m\u001b[0m\u001b[0;34m\u001b[0m\u001b[0m\n\u001b[1;32m    736\u001b[0m                 \u001b[0;32mbreak\u001b[0m\u001b[0;34m\u001b[0m\u001b[0;34m\u001b[0m\u001b[0m\n",
            "\u001b[0;31mKeyboardInterrupt\u001b[0m: "
          ]
        }
      ]
    },
    {
      "cell_type": "code",
      "metadata": {
        "id": "cGA5GXJ58I2c",
        "colab_type": "code",
        "colab": {}
      },
      "source": [
        "model1[7,7,8,6,9]:0.740\n"
      ],
      "execution_count": 0,
      "outputs": []
    },
    {
      "cell_type": "code",
      "metadata": {
        "id": "tBDHrFo89uN0",
        "colab_type": "code",
        "colab": {}
      },
      "source": [
        ""
      ],
      "execution_count": 0,
      "outputs": []
    }
  ]
}