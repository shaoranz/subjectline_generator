{
  "nbformat": 4,
  "nbformat_minor": 0,
  "metadata": {
    "colab": {
      "name": "TextRank.ipynb",
      "provenance": [],
      "collapsed_sections": []
    },
    "kernelspec": {
      "name": "python3",
      "display_name": "Python 3"
    },
    "widgets": {
      "application/vnd.jupyter.widget-state+json": {
        "117cc4e2789b4ecca9a585a48a180a5d": {
          "model_module": "@jupyter-widgets/controls",
          "model_name": "HBoxModel",
          "state": {
            "_view_name": "HBoxView",
            "_dom_classes": [],
            "_model_name": "HBoxModel",
            "_view_module": "@jupyter-widgets/controls",
            "_model_module_version": "1.5.0",
            "_view_count": null,
            "_view_module_version": "1.5.0",
            "box_style": "",
            "layout": "IPY_MODEL_00e6e72978884298bc26c82230f39b18",
            "_model_module": "@jupyter-widgets/controls",
            "children": [
              "IPY_MODEL_4c1a02803de34303aa8178f877fc05f9",
              "IPY_MODEL_21a82c5d26ed480988276a46be153ba3"
            ]
          }
        },
        "00e6e72978884298bc26c82230f39b18": {
          "model_module": "@jupyter-widgets/base",
          "model_name": "LayoutModel",
          "state": {
            "_view_name": "LayoutView",
            "grid_template_rows": null,
            "right": null,
            "justify_content": null,
            "_view_module": "@jupyter-widgets/base",
            "overflow": null,
            "_model_module_version": "1.2.0",
            "_view_count": null,
            "flex_flow": null,
            "width": null,
            "min_width": null,
            "border": null,
            "align_items": null,
            "bottom": null,
            "_model_module": "@jupyter-widgets/base",
            "top": null,
            "grid_column": null,
            "overflow_y": null,
            "overflow_x": null,
            "grid_auto_flow": null,
            "grid_area": null,
            "grid_template_columns": null,
            "flex": null,
            "_model_name": "LayoutModel",
            "justify_items": null,
            "grid_row": null,
            "max_height": null,
            "align_content": null,
            "visibility": null,
            "align_self": null,
            "height": null,
            "min_height": null,
            "padding": null,
            "grid_auto_rows": null,
            "grid_gap": null,
            "max_width": null,
            "order": null,
            "_view_module_version": "1.2.0",
            "grid_template_areas": null,
            "object_position": null,
            "object_fit": null,
            "grid_auto_columns": null,
            "margin": null,
            "display": null,
            "left": null
          }
        },
        "4c1a02803de34303aa8178f877fc05f9": {
          "model_module": "@jupyter-widgets/controls",
          "model_name": "IntProgressModel",
          "state": {
            "_view_name": "ProgressView",
            "style": "IPY_MODEL_814e1adbc22a42c98edb60861c732457",
            "_dom_classes": [],
            "description": "Downloading: 100%",
            "_model_name": "IntProgressModel",
            "bar_style": "success",
            "max": 434,
            "_view_module": "@jupyter-widgets/controls",
            "_model_module_version": "1.5.0",
            "value": 434,
            "_view_count": null,
            "_view_module_version": "1.5.0",
            "orientation": "horizontal",
            "min": 0,
            "description_tooltip": null,
            "_model_module": "@jupyter-widgets/controls",
            "layout": "IPY_MODEL_0775f6ef6f3f4866808718b3dd9af4ee"
          }
        },
        "21a82c5d26ed480988276a46be153ba3": {
          "model_module": "@jupyter-widgets/controls",
          "model_name": "HTMLModel",
          "state": {
            "_view_name": "HTMLView",
            "style": "IPY_MODEL_6a5119eb82f04ee8b19b0ba9c970e6cd",
            "_dom_classes": [],
            "description": "",
            "_model_name": "HTMLModel",
            "placeholder": "​",
            "_view_module": "@jupyter-widgets/controls",
            "_model_module_version": "1.5.0",
            "value": " 434/434 [00:01&lt;00:00, 253B/s]",
            "_view_count": null,
            "_view_module_version": "1.5.0",
            "description_tooltip": null,
            "_model_module": "@jupyter-widgets/controls",
            "layout": "IPY_MODEL_59fd24fd2adc4caeaeb8b0e53a703ed4"
          }
        },
        "814e1adbc22a42c98edb60861c732457": {
          "model_module": "@jupyter-widgets/controls",
          "model_name": "ProgressStyleModel",
          "state": {
            "_view_name": "StyleView",
            "_model_name": "ProgressStyleModel",
            "description_width": "initial",
            "_view_module": "@jupyter-widgets/base",
            "_model_module_version": "1.5.0",
            "_view_count": null,
            "_view_module_version": "1.2.0",
            "bar_color": null,
            "_model_module": "@jupyter-widgets/controls"
          }
        },
        "0775f6ef6f3f4866808718b3dd9af4ee": {
          "model_module": "@jupyter-widgets/base",
          "model_name": "LayoutModel",
          "state": {
            "_view_name": "LayoutView",
            "grid_template_rows": null,
            "right": null,
            "justify_content": null,
            "_view_module": "@jupyter-widgets/base",
            "overflow": null,
            "_model_module_version": "1.2.0",
            "_view_count": null,
            "flex_flow": null,
            "width": null,
            "min_width": null,
            "border": null,
            "align_items": null,
            "bottom": null,
            "_model_module": "@jupyter-widgets/base",
            "top": null,
            "grid_column": null,
            "overflow_y": null,
            "overflow_x": null,
            "grid_auto_flow": null,
            "grid_area": null,
            "grid_template_columns": null,
            "flex": null,
            "_model_name": "LayoutModel",
            "justify_items": null,
            "grid_row": null,
            "max_height": null,
            "align_content": null,
            "visibility": null,
            "align_self": null,
            "height": null,
            "min_height": null,
            "padding": null,
            "grid_auto_rows": null,
            "grid_gap": null,
            "max_width": null,
            "order": null,
            "_view_module_version": "1.2.0",
            "grid_template_areas": null,
            "object_position": null,
            "object_fit": null,
            "grid_auto_columns": null,
            "margin": null,
            "display": null,
            "left": null
          }
        },
        "6a5119eb82f04ee8b19b0ba9c970e6cd": {
          "model_module": "@jupyter-widgets/controls",
          "model_name": "DescriptionStyleModel",
          "state": {
            "_view_name": "StyleView",
            "_model_name": "DescriptionStyleModel",
            "description_width": "",
            "_view_module": "@jupyter-widgets/base",
            "_model_module_version": "1.5.0",
            "_view_count": null,
            "_view_module_version": "1.2.0",
            "_model_module": "@jupyter-widgets/controls"
          }
        },
        "59fd24fd2adc4caeaeb8b0e53a703ed4": {
          "model_module": "@jupyter-widgets/base",
          "model_name": "LayoutModel",
          "state": {
            "_view_name": "LayoutView",
            "grid_template_rows": null,
            "right": null,
            "justify_content": null,
            "_view_module": "@jupyter-widgets/base",
            "overflow": null,
            "_model_module_version": "1.2.0",
            "_view_count": null,
            "flex_flow": null,
            "width": null,
            "min_width": null,
            "border": null,
            "align_items": null,
            "bottom": null,
            "_model_module": "@jupyter-widgets/base",
            "top": null,
            "grid_column": null,
            "overflow_y": null,
            "overflow_x": null,
            "grid_auto_flow": null,
            "grid_area": null,
            "grid_template_columns": null,
            "flex": null,
            "_model_name": "LayoutModel",
            "justify_items": null,
            "grid_row": null,
            "max_height": null,
            "align_content": null,
            "visibility": null,
            "align_self": null,
            "height": null,
            "min_height": null,
            "padding": null,
            "grid_auto_rows": null,
            "grid_gap": null,
            "max_width": null,
            "order": null,
            "_view_module_version": "1.2.0",
            "grid_template_areas": null,
            "object_position": null,
            "object_fit": null,
            "grid_auto_columns": null,
            "margin": null,
            "display": null,
            "left": null
          }
        },
        "2d5b190c1422427d9a1acd6f22845c38": {
          "model_module": "@jupyter-widgets/controls",
          "model_name": "HBoxModel",
          "state": {
            "_view_name": "HBoxView",
            "_dom_classes": [],
            "_model_name": "HBoxModel",
            "_view_module": "@jupyter-widgets/controls",
            "_model_module_version": "1.5.0",
            "_view_count": null,
            "_view_module_version": "1.5.0",
            "box_style": "",
            "layout": "IPY_MODEL_029a95563c184ed08b0387010bc08297",
            "_model_module": "@jupyter-widgets/controls",
            "children": [
              "IPY_MODEL_30444db6b2004a6d93d8363a7014f600",
              "IPY_MODEL_c42f75bcf6b14334bcda2cfd974d0b80"
            ]
          }
        },
        "029a95563c184ed08b0387010bc08297": {
          "model_module": "@jupyter-widgets/base",
          "model_name": "LayoutModel",
          "state": {
            "_view_name": "LayoutView",
            "grid_template_rows": null,
            "right": null,
            "justify_content": null,
            "_view_module": "@jupyter-widgets/base",
            "overflow": null,
            "_model_module_version": "1.2.0",
            "_view_count": null,
            "flex_flow": null,
            "width": null,
            "min_width": null,
            "border": null,
            "align_items": null,
            "bottom": null,
            "_model_module": "@jupyter-widgets/base",
            "top": null,
            "grid_column": null,
            "overflow_y": null,
            "overflow_x": null,
            "grid_auto_flow": null,
            "grid_area": null,
            "grid_template_columns": null,
            "flex": null,
            "_model_name": "LayoutModel",
            "justify_items": null,
            "grid_row": null,
            "max_height": null,
            "align_content": null,
            "visibility": null,
            "align_self": null,
            "height": null,
            "min_height": null,
            "padding": null,
            "grid_auto_rows": null,
            "grid_gap": null,
            "max_width": null,
            "order": null,
            "_view_module_version": "1.2.0",
            "grid_template_areas": null,
            "object_position": null,
            "object_fit": null,
            "grid_auto_columns": null,
            "margin": null,
            "display": null,
            "left": null
          }
        },
        "30444db6b2004a6d93d8363a7014f600": {
          "model_module": "@jupyter-widgets/controls",
          "model_name": "IntProgressModel",
          "state": {
            "_view_name": "ProgressView",
            "style": "IPY_MODEL_4bc2fb15481a4d70b957e2d06900f032",
            "_dom_classes": [],
            "description": "Downloading: 100%",
            "_model_name": "IntProgressModel",
            "bar_style": "success",
            "max": 1344997306,
            "_view_module": "@jupyter-widgets/controls",
            "_model_module_version": "1.5.0",
            "value": 1344997306,
            "_view_count": null,
            "_view_module_version": "1.5.0",
            "orientation": "horizontal",
            "min": 0,
            "description_tooltip": null,
            "_model_module": "@jupyter-widgets/controls",
            "layout": "IPY_MODEL_08b30cc9a25f403a9790651c1d5b762d"
          }
        },
        "c42f75bcf6b14334bcda2cfd974d0b80": {
          "model_module": "@jupyter-widgets/controls",
          "model_name": "HTMLModel",
          "state": {
            "_view_name": "HTMLView",
            "style": "IPY_MODEL_b17fadc551d94f2982935d7d41b2ec0c",
            "_dom_classes": [],
            "description": "",
            "_model_name": "HTMLModel",
            "placeholder": "​",
            "_view_module": "@jupyter-widgets/controls",
            "_model_module_version": "1.5.0",
            "value": " 1.34G/1.34G [01:39&lt;00:00, 13.6MB/s]",
            "_view_count": null,
            "_view_module_version": "1.5.0",
            "description_tooltip": null,
            "_model_module": "@jupyter-widgets/controls",
            "layout": "IPY_MODEL_ecc022a026fc46d78b12f7f11396494b"
          }
        },
        "4bc2fb15481a4d70b957e2d06900f032": {
          "model_module": "@jupyter-widgets/controls",
          "model_name": "ProgressStyleModel",
          "state": {
            "_view_name": "StyleView",
            "_model_name": "ProgressStyleModel",
            "description_width": "initial",
            "_view_module": "@jupyter-widgets/base",
            "_model_module_version": "1.5.0",
            "_view_count": null,
            "_view_module_version": "1.2.0",
            "bar_color": null,
            "_model_module": "@jupyter-widgets/controls"
          }
        },
        "08b30cc9a25f403a9790651c1d5b762d": {
          "model_module": "@jupyter-widgets/base",
          "model_name": "LayoutModel",
          "state": {
            "_view_name": "LayoutView",
            "grid_template_rows": null,
            "right": null,
            "justify_content": null,
            "_view_module": "@jupyter-widgets/base",
            "overflow": null,
            "_model_module_version": "1.2.0",
            "_view_count": null,
            "flex_flow": null,
            "width": null,
            "min_width": null,
            "border": null,
            "align_items": null,
            "bottom": null,
            "_model_module": "@jupyter-widgets/base",
            "top": null,
            "grid_column": null,
            "overflow_y": null,
            "overflow_x": null,
            "grid_auto_flow": null,
            "grid_area": null,
            "grid_template_columns": null,
            "flex": null,
            "_model_name": "LayoutModel",
            "justify_items": null,
            "grid_row": null,
            "max_height": null,
            "align_content": null,
            "visibility": null,
            "align_self": null,
            "height": null,
            "min_height": null,
            "padding": null,
            "grid_auto_rows": null,
            "grid_gap": null,
            "max_width": null,
            "order": null,
            "_view_module_version": "1.2.0",
            "grid_template_areas": null,
            "object_position": null,
            "object_fit": null,
            "grid_auto_columns": null,
            "margin": null,
            "display": null,
            "left": null
          }
        },
        "b17fadc551d94f2982935d7d41b2ec0c": {
          "model_module": "@jupyter-widgets/controls",
          "model_name": "DescriptionStyleModel",
          "state": {
            "_view_name": "StyleView",
            "_model_name": "DescriptionStyleModel",
            "description_width": "",
            "_view_module": "@jupyter-widgets/base",
            "_model_module_version": "1.5.0",
            "_view_count": null,
            "_view_module_version": "1.2.0",
            "_model_module": "@jupyter-widgets/controls"
          }
        },
        "ecc022a026fc46d78b12f7f11396494b": {
          "model_module": "@jupyter-widgets/base",
          "model_name": "LayoutModel",
          "state": {
            "_view_name": "LayoutView",
            "grid_template_rows": null,
            "right": null,
            "justify_content": null,
            "_view_module": "@jupyter-widgets/base",
            "overflow": null,
            "_model_module_version": "1.2.0",
            "_view_count": null,
            "flex_flow": null,
            "width": null,
            "min_width": null,
            "border": null,
            "align_items": null,
            "bottom": null,
            "_model_module": "@jupyter-widgets/base",
            "top": null,
            "grid_column": null,
            "overflow_y": null,
            "overflow_x": null,
            "grid_auto_flow": null,
            "grid_area": null,
            "grid_template_columns": null,
            "flex": null,
            "_model_name": "LayoutModel",
            "justify_items": null,
            "grid_row": null,
            "max_height": null,
            "align_content": null,
            "visibility": null,
            "align_self": null,
            "height": null,
            "min_height": null,
            "padding": null,
            "grid_auto_rows": null,
            "grid_gap": null,
            "max_width": null,
            "order": null,
            "_view_module_version": "1.2.0",
            "grid_template_areas": null,
            "object_position": null,
            "object_fit": null,
            "grid_auto_columns": null,
            "margin": null,
            "display": null,
            "left": null
          }
        },
        "56634fc40f2b4104a122e6e747643f6b": {
          "model_module": "@jupyter-widgets/controls",
          "model_name": "HBoxModel",
          "state": {
            "_view_name": "HBoxView",
            "_dom_classes": [],
            "_model_name": "HBoxModel",
            "_view_module": "@jupyter-widgets/controls",
            "_model_module_version": "1.5.0",
            "_view_count": null,
            "_view_module_version": "1.5.0",
            "box_style": "",
            "layout": "IPY_MODEL_78dde54187824a438b2aefa257e08ec1",
            "_model_module": "@jupyter-widgets/controls",
            "children": [
              "IPY_MODEL_f129144b3dda48d6beee4d5018bdf49b",
              "IPY_MODEL_b71977f0c07f45fcbfc942f2f682afb1"
            ]
          }
        },
        "78dde54187824a438b2aefa257e08ec1": {
          "model_module": "@jupyter-widgets/base",
          "model_name": "LayoutModel",
          "state": {
            "_view_name": "LayoutView",
            "grid_template_rows": null,
            "right": null,
            "justify_content": null,
            "_view_module": "@jupyter-widgets/base",
            "overflow": null,
            "_model_module_version": "1.2.0",
            "_view_count": null,
            "flex_flow": null,
            "width": null,
            "min_width": null,
            "border": null,
            "align_items": null,
            "bottom": null,
            "_model_module": "@jupyter-widgets/base",
            "top": null,
            "grid_column": null,
            "overflow_y": null,
            "overflow_x": null,
            "grid_auto_flow": null,
            "grid_area": null,
            "grid_template_columns": null,
            "flex": null,
            "_model_name": "LayoutModel",
            "justify_items": null,
            "grid_row": null,
            "max_height": null,
            "align_content": null,
            "visibility": null,
            "align_self": null,
            "height": null,
            "min_height": null,
            "padding": null,
            "grid_auto_rows": null,
            "grid_gap": null,
            "max_width": null,
            "order": null,
            "_view_module_version": "1.2.0",
            "grid_template_areas": null,
            "object_position": null,
            "object_fit": null,
            "grid_auto_columns": null,
            "margin": null,
            "display": null,
            "left": null
          }
        },
        "f129144b3dda48d6beee4d5018bdf49b": {
          "model_module": "@jupyter-widgets/controls",
          "model_name": "IntProgressModel",
          "state": {
            "_view_name": "ProgressView",
            "style": "IPY_MODEL_abe029f3ed1d4f7d869dc2c97604fb9b",
            "_dom_classes": [],
            "description": "Downloading: 100%",
            "_model_name": "IntProgressModel",
            "bar_style": "success",
            "max": 231508,
            "_view_module": "@jupyter-widgets/controls",
            "_model_module_version": "1.5.0",
            "value": 231508,
            "_view_count": null,
            "_view_module_version": "1.5.0",
            "orientation": "horizontal",
            "min": 0,
            "description_tooltip": null,
            "_model_module": "@jupyter-widgets/controls",
            "layout": "IPY_MODEL_9136431fa1384f20b5e559cb9ffbcaa3"
          }
        },
        "b71977f0c07f45fcbfc942f2f682afb1": {
          "model_module": "@jupyter-widgets/controls",
          "model_name": "HTMLModel",
          "state": {
            "_view_name": "HTMLView",
            "style": "IPY_MODEL_858d3faa5c874ba5ab2424b391b6e709",
            "_dom_classes": [],
            "description": "",
            "_model_name": "HTMLModel",
            "placeholder": "​",
            "_view_module": "@jupyter-widgets/controls",
            "_model_module_version": "1.5.0",
            "value": " 232k/232k [00:00&lt;00:00, 297kB/s]",
            "_view_count": null,
            "_view_module_version": "1.5.0",
            "description_tooltip": null,
            "_model_module": "@jupyter-widgets/controls",
            "layout": "IPY_MODEL_50aaa5cab2a441eaa502b43efc71ad15"
          }
        },
        "abe029f3ed1d4f7d869dc2c97604fb9b": {
          "model_module": "@jupyter-widgets/controls",
          "model_name": "ProgressStyleModel",
          "state": {
            "_view_name": "StyleView",
            "_model_name": "ProgressStyleModel",
            "description_width": "initial",
            "_view_module": "@jupyter-widgets/base",
            "_model_module_version": "1.5.0",
            "_view_count": null,
            "_view_module_version": "1.2.0",
            "bar_color": null,
            "_model_module": "@jupyter-widgets/controls"
          }
        },
        "9136431fa1384f20b5e559cb9ffbcaa3": {
          "model_module": "@jupyter-widgets/base",
          "model_name": "LayoutModel",
          "state": {
            "_view_name": "LayoutView",
            "grid_template_rows": null,
            "right": null,
            "justify_content": null,
            "_view_module": "@jupyter-widgets/base",
            "overflow": null,
            "_model_module_version": "1.2.0",
            "_view_count": null,
            "flex_flow": null,
            "width": null,
            "min_width": null,
            "border": null,
            "align_items": null,
            "bottom": null,
            "_model_module": "@jupyter-widgets/base",
            "top": null,
            "grid_column": null,
            "overflow_y": null,
            "overflow_x": null,
            "grid_auto_flow": null,
            "grid_area": null,
            "grid_template_columns": null,
            "flex": null,
            "_model_name": "LayoutModel",
            "justify_items": null,
            "grid_row": null,
            "max_height": null,
            "align_content": null,
            "visibility": null,
            "align_self": null,
            "height": null,
            "min_height": null,
            "padding": null,
            "grid_auto_rows": null,
            "grid_gap": null,
            "max_width": null,
            "order": null,
            "_view_module_version": "1.2.0",
            "grid_template_areas": null,
            "object_position": null,
            "object_fit": null,
            "grid_auto_columns": null,
            "margin": null,
            "display": null,
            "left": null
          }
        },
        "858d3faa5c874ba5ab2424b391b6e709": {
          "model_module": "@jupyter-widgets/controls",
          "model_name": "DescriptionStyleModel",
          "state": {
            "_view_name": "StyleView",
            "_model_name": "DescriptionStyleModel",
            "description_width": "",
            "_view_module": "@jupyter-widgets/base",
            "_model_module_version": "1.5.0",
            "_view_count": null,
            "_view_module_version": "1.2.0",
            "_model_module": "@jupyter-widgets/controls"
          }
        },
        "50aaa5cab2a441eaa502b43efc71ad15": {
          "model_module": "@jupyter-widgets/base",
          "model_name": "LayoutModel",
          "state": {
            "_view_name": "LayoutView",
            "grid_template_rows": null,
            "right": null,
            "justify_content": null,
            "_view_module": "@jupyter-widgets/base",
            "overflow": null,
            "_model_module_version": "1.2.0",
            "_view_count": null,
            "flex_flow": null,
            "width": null,
            "min_width": null,
            "border": null,
            "align_items": null,
            "bottom": null,
            "_model_module": "@jupyter-widgets/base",
            "top": null,
            "grid_column": null,
            "overflow_y": null,
            "overflow_x": null,
            "grid_auto_flow": null,
            "grid_area": null,
            "grid_template_columns": null,
            "flex": null,
            "_model_name": "LayoutModel",
            "justify_items": null,
            "grid_row": null,
            "max_height": null,
            "align_content": null,
            "visibility": null,
            "align_self": null,
            "height": null,
            "min_height": null,
            "padding": null,
            "grid_auto_rows": null,
            "grid_gap": null,
            "max_width": null,
            "order": null,
            "_view_module_version": "1.2.0",
            "grid_template_areas": null,
            "object_position": null,
            "object_fit": null,
            "grid_auto_columns": null,
            "margin": null,
            "display": null,
            "left": null
          }
        }
      }
    }
  },
  "cells": [
    {
      "cell_type": "code",
      "metadata": {
        "id": "OCxa-3_bTeqC",
        "colab_type": "code",
        "outputId": "756581fc-ce9e-4cb0-df3b-d32e1759bc56",
        "colab": {
          "base_uri": "https://localhost:8080/",
          "height": 102
        }
      },
      "source": [
        "import nltk\n",
        "nltk.download('stopwords')\n",
        "nltk.download('brown')"
      ],
      "execution_count": 0,
      "outputs": [
        {
          "output_type": "stream",
          "text": [
            "[nltk_data] Downloading package stopwords to /root/nltk_data...\n",
            "[nltk_data]   Package stopwords is already up-to-date!\n",
            "[nltk_data] Downloading package brown to /root/nltk_data...\n",
            "[nltk_data]   Unzipping corpora/brown.zip.\n"
          ],
          "name": "stdout"
        },
        {
          "output_type": "execute_result",
          "data": {
            "text/plain": [
              "True"
            ]
          },
          "metadata": {
            "tags": []
          },
          "execution_count": 6
        }
      ]
    },
    {
      "cell_type": "code",
      "metadata": {
        "id": "x5fyoTNczHmY",
        "colab_type": "code",
        "outputId": "b685bddf-60e0-4d82-e19f-a234b6bf648f",
        "colab": {
          "base_uri": "https://localhost:8080/",
          "height": 51
        }
      },
      "source": [
        "!pip -q install summa\n",
        "from summa import summarizer"
      ],
      "execution_count": 0,
      "outputs": [
        {
          "output_type": "stream",
          "text": [
            "\u001b[?25l\r\u001b[K     |██████                          | 10kB 23.2MB/s eta 0:00:01\r\u001b[K     |████████████                    | 20kB 1.8MB/s eta 0:00:01\r\u001b[K     |██████████████████              | 30kB 2.3MB/s eta 0:00:01\r\u001b[K     |███████████████████████▉        | 40kB 1.7MB/s eta 0:00:01\r\u001b[K     |█████████████████████████████▉  | 51kB 2.0MB/s eta 0:00:01\r\u001b[K     |████████████████████████████████| 61kB 1.9MB/s \n",
            "\u001b[?25h  Building wheel for summa (setup.py) ... \u001b[?25l\u001b[?25hdone\n"
          ],
          "name": "stdout"
        }
      ]
    },
    {
      "cell_type": "code",
      "metadata": {
        "id": "VCsw4B1dQuc7",
        "colab_type": "code",
        "colab": {}
      },
      "source": [
        "!pip install bert-extractive-summarizer"
      ],
      "execution_count": 0,
      "outputs": []
    },
    {
      "cell_type": "code",
      "metadata": {
        "id": "-PcjhcWqRPOj",
        "colab_type": "code",
        "outputId": "053ce5fb-d64b-46f8-baec-105f79875a3d",
        "colab": {
          "base_uri": "https://localhost:8080/",
          "height": 164,
          "referenced_widgets": [
            "117cc4e2789b4ecca9a585a48a180a5d",
            "00e6e72978884298bc26c82230f39b18",
            "4c1a02803de34303aa8178f877fc05f9",
            "21a82c5d26ed480988276a46be153ba3",
            "814e1adbc22a42c98edb60861c732457",
            "0775f6ef6f3f4866808718b3dd9af4ee",
            "6a5119eb82f04ee8b19b0ba9c970e6cd",
            "59fd24fd2adc4caeaeb8b0e53a703ed4",
            "2d5b190c1422427d9a1acd6f22845c38",
            "029a95563c184ed08b0387010bc08297",
            "30444db6b2004a6d93d8363a7014f600",
            "c42f75bcf6b14334bcda2cfd974d0b80",
            "4bc2fb15481a4d70b957e2d06900f032",
            "08b30cc9a25f403a9790651c1d5b762d",
            "b17fadc551d94f2982935d7d41b2ec0c",
            "ecc022a026fc46d78b12f7f11396494b",
            "56634fc40f2b4104a122e6e747643f6b",
            "78dde54187824a438b2aefa257e08ec1",
            "f129144b3dda48d6beee4d5018bdf49b",
            "b71977f0c07f45fcbfc942f2f682afb1",
            "abe029f3ed1d4f7d869dc2c97604fb9b",
            "9136431fa1384f20b5e559cb9ffbcaa3",
            "858d3faa5c874ba5ab2424b391b6e709",
            "50aaa5cab2a441eaa502b43efc71ad15"
          ]
        }
      },
      "source": [
        "from summarizer import Summarizer\n",
        "\n",
        "body = '''\n",
        "The Chrysler Building, the famous art deco New York skyscraper, will be sold for a small fraction of its previous sales price.\n",
        "The deal, first reported by The Real Deal, was for $150 million, according to a source familiar with the deal.\n",
        "Mubadala, an Abu Dhabi investment fund, purchased 90% of the building for $800 million in 2008.\n",
        "Real estate firm Tishman Speyer had owned the other 10%.\n",
        "The buyer is RFR Holding, a New York real estate company.\n",
        "Officials with Tishman and RFR did not immediately respond to a request for comments.\n",
        "It's unclear when the deal will close.\n",
        "The building sold fairly quickly after being publicly placed on the market only two months ago.\n",
        "The sale was handled by CBRE Group.\n",
        "The incentive to sell the building at such a huge loss was due to the soaring rent the owners pay to Cooper Union, a New York college, for the land under the building.\n",
        "The rent is rising from $7.75 million last year to $32.5 million this year to $41 million in 2028.\n",
        "Meantime, rents in the building itself are not rising nearly that fast.\n",
        "While the building is an iconic landmark in the New York skyline, it is competing against newer office towers with large floor-to-ceiling windows and all the modern amenities.\n",
        "Still the building is among the best known in the city, even to people who have never been to New York.\n",
        "It is famous for its triangle-shaped, vaulted windows worked into the stylized crown, along with its distinctive eagle gargoyles near the top.\n",
        "It has been featured prominently in many films, including Men in Black 3, Spider-Man, Armageddon, Two Weeks Notice and Independence Day.\n",
        "The previous sale took place just before the 2008 financial meltdown led to a plunge in real estate prices.\n",
        "Still there have been a number of high profile skyscrapers purchased for top dollar in recent years, including the Waldorf Astoria hotel, which Chinese firm Anbang Insurance purchased in 2016 for nearly $2 billion, and the Willis Tower in Chicago, which was formerly known as Sears Tower, once the world's tallest.\n",
        "Blackstone Group (BX) bought it for $1.3 billion 2015.\n",
        "The Chrysler Building was the headquarters of the American automaker until 1953, but it was named for and owned by Chrysler chief Walter Chrysler, not the company itself.\n",
        "Walter Chrysler had set out to build the tallest building in the world, a competition at that time with another Manhattan skyscraper under construction at 40 Wall Street at the south end of Manhattan. He kept secret the plans for the spire that would grace the top of the building, building it inside the structure and out of view of the public until 40 Wall Street was complete.\n",
        "Once the competitor could rise no higher, the spire of the Chrysler building was raised into view, giving it the title.\n",
        "'''\n",
        "\n",
        "model = Summarizer()\n"
      ],
      "execution_count": 0,
      "outputs": [
        {
          "output_type": "display_data",
          "data": {
            "application/vnd.jupyter.widget-view+json": {
              "model_id": "117cc4e2789b4ecca9a585a48a180a5d",
              "version_minor": 0,
              "version_major": 2
            },
            "text/plain": [
              "HBox(children=(IntProgress(value=0, description='Downloading', max=434, style=ProgressStyle(description_width=…"
            ]
          },
          "metadata": {
            "tags": []
          }
        },
        {
          "output_type": "stream",
          "text": [
            "\n"
          ],
          "name": "stdout"
        },
        {
          "output_type": "display_data",
          "data": {
            "application/vnd.jupyter.widget-view+json": {
              "model_id": "2d5b190c1422427d9a1acd6f22845c38",
              "version_minor": 0,
              "version_major": 2
            },
            "text/plain": [
              "HBox(children=(IntProgress(value=0, description='Downloading', max=1344997306, style=ProgressStyle(description…"
            ]
          },
          "metadata": {
            "tags": []
          }
        },
        {
          "output_type": "stream",
          "text": [
            "\n"
          ],
          "name": "stdout"
        },
        {
          "output_type": "display_data",
          "data": {
            "application/vnd.jupyter.widget-view+json": {
              "model_id": "56634fc40f2b4104a122e6e747643f6b",
              "version_minor": 0,
              "version_major": 2
            },
            "text/plain": [
              "HBox(children=(IntProgress(value=0, description='Downloading', max=231508, style=ProgressStyle(description_wid…"
            ]
          },
          "metadata": {
            "tags": []
          }
        },
        {
          "output_type": "stream",
          "text": [
            "\n"
          ],
          "name": "stdout"
        }
      ]
    },
    {
      "cell_type": "code",
      "metadata": {
        "id": "2BHSrKxXcl-E",
        "colab_type": "code",
        "outputId": "cedb4b29-b059-4fb2-81ad-b167822242c2",
        "colab": {
          "base_uri": "https://localhost:8080/",
          "height": 54
        }
      },
      "source": [
        "result = model(body, min_length=60)\n",
        "full = ''.join(result)\n",
        "print(full)"
      ],
      "execution_count": 0,
      "outputs": [
        {
          "output_type": "stream",
          "text": [
            "The Chrysler Building, the famous art deco New York skyscraper, will be sold for a small fraction of its previous sales price. The deal, first reported by The Real Deal, was for $150 million, according to a source familiar with the deal. The building sold fairly quickly after being publicly placed on the market only two months ago. The incentive to sell the building at such a huge loss was due to the soaring rent the owners pay to Cooper Union, a New York college, for the land under the building.\n"
          ],
          "name": "stdout"
        }
      ]
    },
    {
      "cell_type": "code",
      "metadata": {
        "id": "zfyL9TlDWF-S",
        "colab_type": "code",
        "colab": {}
      },
      "source": [
        "import pandas as pd\n",
        "from nltk.corpus import brown, stopwords\n",
        "from nltk.cluster.util import cosine_distance\n",
        "import numpy as np\n",
        "from operator import itemgetter\n",
        "import re"
      ],
      "execution_count": 0,
      "outputs": []
    },
    {
      "cell_type": "code",
      "metadata": {
        "id": "qjmWLSnhWQz_",
        "colab_type": "code",
        "outputId": "6ab03ee3-26ff-41f2-9ac9-23d0e80a7d52",
        "colab": {
          "base_uri": "https://localhost:8080/",
          "height": 122
        }
      },
      "source": [
        "from google.colab import drive\n",
        "drive.mount('/content/drive/',force_remount=True)"
      ],
      "execution_count": 0,
      "outputs": [
        {
          "output_type": "stream",
          "text": [
            "Go to this URL in a browser: https://accounts.google.com/o/oauth2/auth?client_id=947318989803-6bn6qk8qdgf4n4g3pfee6491hc0brc4i.apps.googleusercontent.com&redirect_uri=urn%3aietf%3awg%3aoauth%3a2.0%3aoob&response_type=code&scope=email%20https%3a%2f%2fwww.googleapis.com%2fauth%2fdocs.test%20https%3a%2f%2fwww.googleapis.com%2fauth%2fdrive%20https%3a%2f%2fwww.googleapis.com%2fauth%2fdrive.photos.readonly%20https%3a%2f%2fwww.googleapis.com%2fauth%2fpeopleapi.readonly\n",
            "\n",
            "Enter your authorization code:\n",
            "··········\n",
            "Mounted at /content/drive/\n"
          ],
          "name": "stdout"
        }
      ]
    },
    {
      "cell_type": "code",
      "metadata": {
        "id": "NHxz7nUaWZM4",
        "colab_type": "code",
        "outputId": "ef3d3c4e-98d2-4ebc-8d8b-7cd9b43ef5ac",
        "colab": {
          "base_uri": "https://localhost:8080/",
          "height": 34
        }
      },
      "source": [
        "cd 'drive/My Drive/SI630/emailproject'"
      ],
      "execution_count": 0,
      "outputs": [
        {
          "output_type": "stream",
          "text": [
            "/content/drive/My Drive/SI630/emailproject\n"
          ],
          "name": "stdout"
        }
      ]
    },
    {
      "cell_type": "code",
      "metadata": {
        "id": "FXWn-9v6Wkwp",
        "colab_type": "code",
        "colab": {}
      },
      "source": [
        "train=pd.read_csv('train.csv')\n",
        "test=pd.read_csv('test.csv')"
      ],
      "execution_count": 0,
      "outputs": []
    },
    {
      "cell_type": "code",
      "metadata": {
        "id": "cfXQnEgUWoNn",
        "colab_type": "code",
        "outputId": "2710ca01-2541-433d-d666-aba392df5479",
        "colab": {
          "base_uri": "https://localhost:8080/",
          "height": 204
        }
      },
      "source": [
        "train.head()"
      ],
      "execution_count": 0,
      "outputs": [
        {
          "output_type": "execute_result",
          "data": {
            "text/html": [
              "<div>\n",
              "<style scoped>\n",
              "    .dataframe tbody tr th:only-of-type {\n",
              "        vertical-align: middle;\n",
              "    }\n",
              "\n",
              "    .dataframe tbody tr th {\n",
              "        vertical-align: top;\n",
              "    }\n",
              "\n",
              "    .dataframe thead th {\n",
              "        text-align: right;\n",
              "    }\n",
              "</style>\n",
              "<table border=\"1\" class=\"dataframe\">\n",
              "  <thead>\n",
              "    <tr style=\"text-align: right;\">\n",
              "      <th></th>\n",
              "      <th>Subject</th>\n",
              "      <th>content</th>\n",
              "    </tr>\n",
              "  </thead>\n",
              "  <tbody>\n",
              "    <tr>\n",
              "      <th>0</th>\n",
              "      <td>new notice from transwestern pipeline co.</td>\n",
              "      <td>transwestern pipeline co. posted new notice(s)...</td>\n",
              "    </tr>\n",
              "    <tr>\n",
              "      <th>1</th>\n",
              "      <td>market alert: nasdaq composite ends down 3.7%</td>\n",
              "      <td>__________________________________\\nmarket ale...</td>\n",
              "    </tr>\n",
              "    <tr>\n",
              "      <th>2</th>\n",
              "      <td>new notice from transwestern pipeline co.</td>\n",
              "      <td>transwestern pipeline co. posted new notice(s)...</td>\n",
              "    </tr>\n",
              "    <tr>\n",
              "      <th>3</th>\n",
              "      <td>ken lay and jeff skilling on cnnfn</td>\n",
              "      <td>ken lay and jeff skilling were interviewed on ...</td>\n",
              "    </tr>\n",
              "    <tr>\n",
              "      <th>4</th>\n",
              "      <td>new notice from transwestern pipeline co.</td>\n",
              "      <td>transwestern pipeline co. posted new notice(s)...</td>\n",
              "    </tr>\n",
              "  </tbody>\n",
              "</table>\n",
              "</div>"
            ],
            "text/plain": [
              "                                         Subject                                            content\n",
              "0      new notice from transwestern pipeline co.  transwestern pipeline co. posted new notice(s)...\n",
              "1  market alert: nasdaq composite ends down 3.7%  __________________________________\\nmarket ale...\n",
              "2      new notice from transwestern pipeline co.  transwestern pipeline co. posted new notice(s)...\n",
              "3             ken lay and jeff skilling on cnnfn  ken lay and jeff skilling were interviewed on ...\n",
              "4      new notice from transwestern pipeline co.  transwestern pipeline co. posted new notice(s)..."
            ]
          },
          "metadata": {
            "tags": []
          },
          "execution_count": 20
        }
      ]
    },
    {
      "cell_type": "code",
      "metadata": {
        "id": "gJRp_P3yXSXp",
        "colab_type": "code",
        "colab": {}
      },
      "source": [
        "tokenizer = nltk.RegexpTokenizer(r\"\\w+\")\n",
        "\n",
        "def sent_similartity(s1,s2,remove_stopwords=True):\n",
        "  stop_words=stopwords.words('english')\n",
        "  s1=tokenizer.tokenize(s1)\n",
        "  s2=tokenizer.tokenize(s2)\n",
        "  if remove_stopwords:\n",
        "    s1=[w for w in s1 if w not in stop_words]\n",
        "    s2=[w for w in s2 if w not in stop_words]\n",
        "  words= list(set(s1+s2))\n",
        "  v1=np.zeros(len(words))\n",
        "  v2=np.zeros(len(words))\n",
        "  for w in s1:\n",
        "    v1[words.index(w)]+=1\n",
        "  for w in s2:\n",
        "    v2[words.index(w)]+=1\n",
        "  return 1 - cosine_distance(v1, v2)"
      ],
      "execution_count": 0,
      "outputs": []
    },
    {
      "cell_type": "code",
      "metadata": {
        "id": "LVCT_RNxcabN",
        "colab_type": "code",
        "colab": {}
      },
      "source": [
        "def sim_matrix(sents,remove_stopwords=True):\n",
        "  n_sents=len(sents)\n",
        "  M= np.ones((n_sents,n_sents))\n",
        "  for i in range(n_sents):\n",
        "    for j in range(n_sents):\n",
        "      if i == j: \n",
        "        continue\n",
        "      else:\n",
        "        M[i][j]=sent_similartity(sents[i],sents[j],remove_stopwords)\n",
        "  return M"
      ],
      "execution_count": 0,
      "outputs": []
    },
    {
      "cell_type": "code",
      "metadata": {
        "id": "YeYi588lf1wE",
        "colab_type": "code",
        "colab": {}
      },
      "source": [
        "#Citation: PageRank\n",
        "#https://en.wikipedia.org/wiki/PageRank\n",
        "def pagerank(M, num_iterations=10, d=0.85):\n",
        "    N = M.shape[1]\n",
        "    v = np.random.rand(N, 1)\n",
        "    v = v / np.linalg.norm(v, 1)\n",
        "    M_hat = (d * M + (1 - d) / N)\n",
        "    for i in range(num_iterations):\n",
        "        v = M_hat @ v\n",
        "    return v"
      ],
      "execution_count": 0,
      "outputs": []
    },
    {
      "cell_type": "code",
      "metadata": {
        "id": "Z_zB-PjfqN4o",
        "colab_type": "code",
        "colab": {}
      },
      "source": [
        "def TextRank(doc, max_n_sent=10, top_n=1, remove_stopwords=True):\n",
        "  doc=doc.strip()\n",
        "  sents=re.split('[?.!:]', doc)\n",
        "  try: sents=sents[:max_n_sent]\n",
        "  except: pass\n",
        "  sents=[s for s in sents if len(s)>10]\n",
        "  M=sim_matrix(sents,remove_stopwords)\n",
        "  try:\n",
        "    Rank=pagerank(M)\n",
        "    idx=(-Rank.flatten()).argsort()[:top_n]\n",
        "    result=[sents[i] for i in idx]\n",
        "    result='.'.join(result)\n",
        "  except:\n",
        "    result='NA'\n",
        "  return result.replace('\\n','')"
      ],
      "execution_count": 0,
      "outputs": []
    },
    {
      "cell_type": "code",
      "metadata": {
        "id": "8ka9JLpZqPRl",
        "colab_type": "code",
        "outputId": "2a844c5a-9106-41f8-aea1-6db41116a201",
        "colab": {
          "base_uri": "https://localhost:8080/",
          "height": 34
        }
      },
      "source": [
        "TextRank('Dear xx: Attached you will find an excel document. The outages contained within are forced or rescheduled outages. Your daily delivery will still contain these outages.In addition to the two excel documents, there is a dbf file that is formatted like your daily deliveries you receive nightly. This will enable you to load the data into your regular database. Any questions please let me know.')"
      ],
      "execution_count": 0,
      "outputs": [
        {
          "output_type": "execute_result",
          "data": {
            "text/plain": [
              "' Your daily delivery will still contain these outages'"
            ]
          },
          "metadata": {
            "tags": []
          },
          "execution_count": 258
        }
      ]
    },
    {
      "cell_type": "code",
      "metadata": {
        "id": "_tNYGUuPyHzc",
        "colab_type": "code",
        "colab": {}
      },
      "source": [
        "#LEAD-2\n",
        "def LEAD2(data):\n",
        "  data=data.strip()\n",
        "  RE='^.*?:'\n",
        "  data=re.sub(RE,'', data)\n",
        "  data=data.strip()\n",
        "  data=re.split('[?.,!:]', data)\n",
        "  result=data[0]\n",
        "  try: result=result+data[1]\n",
        "  except: pass\n",
        "  return result.replace('\\n','')"
      ],
      "execution_count": 0,
      "outputs": []
    },
    {
      "cell_type": "code",
      "metadata": {
        "id": "watPukgay5tJ",
        "colab_type": "code",
        "colab": {}
      },
      "source": [
        "def SUMMA(data):\n",
        "  try: result=summarizer.summarize(data).partition('.')[0]\n",
        "  except: result=\"NA\"\n",
        "  return result"
      ],
      "execution_count": 0,
      "outputs": []
    },
    {
      "cell_type": "code",
      "metadata": {
        "id": "zn_Jr95wzQWP",
        "colab_type": "code",
        "colab": {}
      },
      "source": [
        "\n",
        "test['result1']=test['content'].apply(lambda x:LEAD2(x))"
      ],
      "execution_count": 0,
      "outputs": []
    },
    {
      "cell_type": "code",
      "metadata": {
        "id": "xN2-x-d4zcX5",
        "colab_type": "code",
        "colab": {}
      },
      "source": [
        "test['result2']=test['content'].apply(lambda x:SUMMA(x))"
      ],
      "execution_count": 0,
      "outputs": []
    },
    {
      "cell_type": "code",
      "metadata": {
        "id": "bQzNhZjZ0Zox",
        "colab_type": "code",
        "colab": {}
      },
      "source": [
        "test['result3']=test['content'].apply(lambda x:TextRank(x))"
      ],
      "execution_count": 0,
      "outputs": []
    },
    {
      "cell_type": "code",
      "metadata": {
        "id": "VKXitxdW1pB3",
        "colab_type": "code",
        "colab": {}
      },
      "source": [
        "test.to_csv('results.csv')"
      ],
      "execution_count": 0,
      "outputs": []
    },
    {
      "cell_type": "code",
      "metadata": {
        "id": "mOdTH51E1uff",
        "colab_type": "code",
        "colab": {}
      },
      "source": [
        "results=pd.read_csv('results.csv')"
      ],
      "execution_count": 0,
      "outputs": []
    },
    {
      "cell_type": "code",
      "metadata": {
        "id": "UbWli0Z7xDL9",
        "colab_type": "code",
        "colab": {}
      },
      "source": [
        "from nltk.translate.bleu_score import sentence_bleu\n",
        "def evaluation(ref,candi):\n",
        "  ref=[tokenizer.tokenize(ref)]\n",
        "  candi=tokenizer.tokenize(candi)\n",
        "  bleu=sentence_bleu(ref, candi)\n",
        "  return bleu"
      ],
      "execution_count": 0,
      "outputs": []
    },
    {
      "cell_type": "code",
      "metadata": {
        "id": "DS1HXc3X5RIw",
        "colab_type": "code",
        "colab": {}
      },
      "source": [
        "origin=test.Subject\n",
        "result1=test['result1']#LEAD2\n",
        "result2=test['result2']#SUMMA\n",
        "result3=test['result3']#TEXTRANK"
      ],
      "execution_count": 0,
      "outputs": []
    },
    {
      "cell_type": "code",
      "metadata": {
        "id": "F8QhkCZ95gbW",
        "colab_type": "code",
        "colab": {}
      },
      "source": [
        "score1=[]\n",
        "score2=[]\n",
        "score3=[]\n",
        "def compute_score(origin,data):\n",
        "  score=[]\n",
        "  for i in range(len(origin)):\n",
        "    try:score.append(evaluation(origin[i],data[i]))\n",
        "    except:score.append(0)\n",
        "  return score"
      ],
      "execution_count": 0,
      "outputs": []
    },
    {
      "cell_type": "code",
      "metadata": {
        "id": "cg7HOuRy6g0_",
        "colab_type": "code",
        "outputId": "3bebe96c-19df-4a24-fdd7-334d69281835",
        "colab": {
          "base_uri": "https://localhost:8080/",
          "height": 221
        }
      },
      "source": [
        "score1=compute_score(origin,result1)\n",
        "score2=compute_score(origin,result2)\n",
        "score3=compute_score(origin,result3)"
      ],
      "execution_count": 0,
      "outputs": [
        {
          "output_type": "stream",
          "text": [
            "/usr/local/lib/python3.6/dist-packages/nltk/translate/bleu_score.py:490: UserWarning: \n",
            "Corpus/Sentence contains 0 counts of 3-gram overlaps.\n",
            "BLEU scores might be undesirable; use SmoothingFunction().\n",
            "  warnings.warn(_msg)\n",
            "/usr/local/lib/python3.6/dist-packages/nltk/translate/bleu_score.py:490: UserWarning: \n",
            "Corpus/Sentence contains 0 counts of 2-gram overlaps.\n",
            "BLEU scores might be undesirable; use SmoothingFunction().\n",
            "  warnings.warn(_msg)\n",
            "/usr/local/lib/python3.6/dist-packages/nltk/translate/bleu_score.py:490: UserWarning: \n",
            "Corpus/Sentence contains 0 counts of 4-gram overlaps.\n",
            "BLEU scores might be undesirable; use SmoothingFunction().\n",
            "  warnings.warn(_msg)\n"
          ],
          "name": "stderr"
        }
      ]
    },
    {
      "cell_type": "code",
      "metadata": {
        "id": "Y80xVMrC6wEw",
        "colab_type": "code",
        "outputId": "59969345-59e6-442a-cbaa-6d1d8c91a8f1",
        "colab": {
          "base_uri": "https://localhost:8080/",
          "height": 68
        }
      },
      "source": [
        "from statistics import mean\n",
        "print('LEAD2 BLEU Score:',mean(score1))#LEAD2\n",
        "print('SUMMA BLEU Score:',mean(score2))#SUMMA\n",
        "print('TEXTRANK BLEU Score:',mean(score3))#TEXTRANK"
      ],
      "execution_count": 0,
      "outputs": [
        {
          "output_type": "stream",
          "text": [
            "LEAD2 BLEU Score: 0.22323359040730634\n",
            "SUMMA BLEU Score: 0.23601891889280927\n",
            "TEXTRANK BLEU Score: 0.2521238135848392\n"
          ],
          "name": "stdout"
        }
      ]
    },
    {
      "cell_type": "code",
      "metadata": {
        "id": "3U5MDQKuBG89",
        "colab_type": "code",
        "outputId": "5d04f8c9-5fc2-4944-c3dc-54e68ce575e5",
        "colab": {
          "base_uri": "https://localhost:8080/",
          "height": 258
        }
      },
      "source": [
        "#DEMO\n",
        "print(\"///////////////////////////////////////////////////////\")\n",
        "print(\"Type in your email:\")\n",
        "email_content=input()\n",
        "print(\"///////////////////////////////////////////////////////\")\n",
        "print(\"Type in your subject line:\")\n",
        "subject=input()\n",
        "print(\"///////////////////////////////////////////////////////\")\n",
        "print(\"subject1:\",LEAD2(email_content))\n",
        "print(\"Score:\",evaluation(subject,LEAD2(email_content)))\n",
        "print(\"subject2:\",SUMMA(email_content))\n",
        "print(\"Score:\",evaluation(subject,SUMMA(email_content)))\n",
        "print(\"subject3:\",TextRank(email_content))\n",
        "print(\"Score:\",evaluation(subject,TextRank(email_content)))"
      ],
      "execution_count": 0,
      "outputs": [
        {
          "output_type": "stream",
          "text": [
            "///////////////////////////////////////////////////////\n",
            "Type in your email:\n",
            "Attached you will find an excel document. The outages contained within are forced or rescheduled outages. Your daily delivery will still contain these outages.In addition to the two excel documents, there is a dbf file that is formatted like your daily deliveries you receive nightly. This will enable you to load the data into your regular database. Any questions please let me know.\n",
            "///////////////////////////////////////////////////////\n",
            "Type in your subject line:\n",
            "Original Subject & WSCC (Diablo Canyon)  MAAC (Indian River)  MAPP (Gerald Gentleman) NPCC  (Ravenswood)\n",
            "///////////////////////////////////////////////////////\n",
            "subject1: Attached you will find an excel document The outages contained within are forced or rescheduled outages\n",
            "Score: 0\n",
            "subject2: Your daily delivery will still contain these outages\n",
            "Score: 0\n",
            "subject3:  Your daily delivery will still contain these outages\n",
            "Score: 0\n"
          ],
          "name": "stdout"
        }
      ]
    },
    {
      "cell_type": "code",
      "metadata": {
        "id": "b28E8b1_IV7l",
        "colab_type": "code",
        "outputId": "6292a213-659b-4730-ee66-8bcfc0201aff",
        "colab": {
          "base_uri": "https://localhost:8080/",
          "height": 1000
        }
      },
      "source": [
        "testsize=10\n",
        "r1,r2,r3,r4=[],[],[],[]\n",
        "print(\"0=poor,1=informative or succinct,2=informative and succinct\\n\")\n",
        "sample=test.sample(testsize,random_state=2)\n",
        "for i in range(testsize):\n",
        "  print(\"/////////////////Content://////////////////////////////\\n\",sample.content.iloc[i][:500])\n",
        "  print(\"///////////////////////////////////////////////////////\")\n",
        "  print(\"************Subject line 1:*********\\n\",sample.result1.iloc[i])\n",
        "  print(\"***************************************************\")\n",
        "  print(\"Score:\")\n",
        "  r1.append(int(input()))\n",
        "  print(\"************Subject line 2:*********\\n\",sample.result2.iloc[i])\n",
        "  print(\"***************************************************\")\n",
        "  print(\"Score:\")\n",
        "  r2.append(int(input()))\n",
        "  print(\"************Subject line 3:*********\\n\",sample.result3.iloc[i])\n",
        "  print(\"***************************************************\")\n",
        "  print(\"Score:\")\n",
        "  r3.append(int(input()))\n",
        "  print(\"************Subject line 4:*********\\n\",sample.Subject.iloc[i])\n",
        "  print(\"***************************************************\")\n",
        "  print(\"Score:\")\n",
        "  r4.append(int(input()))\n",
        "  \n",
        "print(\"final result model1:\",sum(r1)/testsize)\n",
        "print(\"final result model2:\",sum(r2)/testsize)\n",
        "print(\"final result model3:\",sum(r3)/testsize)\n",
        "print(\"final result model3:\",sum(r4)/testsize)"
      ],
      "execution_count": 0,
      "outputs": [
        {
          "output_type": "stream",
          "text": [
            "0=poor,1=informative or succinct,2=informative and succinct\n",
            "\n",
            "/////////////////Content://////////////////////////////\n",
            " dear board task force:\n",
            "\n",
            "please disregard the previous note with the same subject.\n",
            "\n",
            "at meetings with eei recently, they asked jim buccigross, jim templeton and i\n",
            "if we could send them (larry brown) a letter indicating that the gisb\n",
            "organization did not intend to impede the progress of eei/cubr in developing\n",
            "uniform business rules, and further that we would support such a product if a\n",
            "new organization were created.  attached is a draft letter, carefully worded\n",
            "-- and probably not everything that t\n",
            "///////////////////////////////////////////////////////\n",
            "************Subject line 1:*********\n",
            " please disregard the previous note with the same subjectat meetings with eei recently\n",
            "***************************************************\n",
            "Score:\n",
            "1\n",
            "************Subject line 2:*********\n",
            " attached is a draft letter, carefully worded\n",
            "sent to you previously, and white paper, a strawman, and commitment letter to\n",
            "- eei letter\n",
            "***************************************************\n",
            "Score:\n",
            "0\n",
            "************Subject line 3:*********\n",
            "   best regards,  rae - eei letter\n",
            "***************************************************\n",
            "Score:\n",
            "0\n",
            "************Subject line 4:*********\n",
            " gisb eei letter -- with the attachment\n",
            "***************************************************\n",
            "Score:\n",
            "1\n",
            "/////////////////Content://////////////////////////////\n",
            " we are wrapping up several hours in the office and have tested all \n",
            "commodities front to back.  we found a few minor issues, primarily reports \n",
            "with report dates that were incorrect.  the content and underlying \n",
            "calculations in the reports were correct.  these were really just query and \n",
            "formatting issues.  all were quick fixes of five minutes or less.  so at this \n",
            "point we feel confident about our system situation.  more will unfold with \n",
            "counterparties next week, but hopefully all found this a\n",
            "///////////////////////////////////////////////////////\n",
            "************Subject line 1:*********\n",
            " we are wrapping up several hours in the office and have tested all commodities front to back  we found a few minor issues\n",
            "***************************************************\n",
            "Score:\n",
            "2\n",
            "************Subject line 2:*********\n",
            " we found a few minor issues, primarily reports \n",
            "with report dates that were incorrect\n",
            "***************************************************\n",
            "Score:\n",
            "2\n",
            "************Subject line 3:*********\n",
            "   we found a few minor issues, primarily reports with report dates that were incorrect\n",
            "***************************************************\n",
            "Score:\n",
            "2\n",
            "************Subject line 4:*********\n",
            " happy new year - no y2k fear!\n",
            "***************************************************\n",
            "Score:\n",
            "0\n",
            "/////////////////Content://////////////////////////////\n",
            " the honorable ron wyden\n",
            "us senate\n",
            "516 senate hart office\n",
            "washington, dc  20510\n",
            "202-224-5244\n",
            "202-228-2717 (fax)\n",
            "chief of staff:  josh kardon\n",
            "legislative director:  carole grunberg\n",
            "\n",
            "the honorable phil gramm\n",
            "united states senate\n",
            "russell senate office building-370\n",
            "washington, dc  20510\n",
            "202-224-2934\n",
            "202-228-2856 (fax)\n",
            "chief of staff:  ruth cymber\n",
            "legislative director:  richard ribbentrop\n",
            "\n",
            "the honorable tim hutchinson\n",
            "us senate\n",
            "239 dirksen senate office building\n",
            "washington, dc  20510\n",
            "202-224-2353\n",
            "202-\n",
            "///////////////////////////////////////////////////////\n",
            "************Subject line 1:*********\n",
            " the honorable ron wydenus senate516 senate hart officewashington dc  20510202-224-5244202-228-2717 (fax)chief of staff\n",
            "***************************************************\n",
            "Score:\n",
            "0\n",
            "************Subject line 2:*********\n",
            " the honorable ron wyden\n",
            "chief of staff:  josh kardon\n",
            "the honorable phil gramm\n",
            "the honorable tim hutchinson\n",
            "***************************************************\n",
            "Score:\n",
            "0\n",
            "************Subject line 3:*********\n",
            " the honorable ron wydenus senate516 senate hart officewashington, dc  20510202-224-5244202-228-2717 (fax)chief of staff\n",
            "***************************************************\n",
            "Score:\n",
            "0\n",
            "************Subject line 4:*********\n",
            " contact information for senators wyden, gramm and hutchinson, per\n",
            " your request\n",
            "***************************************************\n",
            "Score:\n",
            "0\n",
            "/////////////////Content://////////////////////////////\n",
            " on november 20, 2000, the cogeneration association of california and the\n",
            "energy producers and users coalition filed an application seeking relief\n",
            "pursuant to public utilities code section 372(f).   this code provision\n",
            "provides that the commission and the eob shall determine if any\n",
            "policy/action of the iso unreasonably discourages the connection of existing\n",
            "or new self generation or cogeneration and, if they determine that\n",
            "actions/policies of the iso do that, then they must take efforts to revise\n",
            "///////////////////////////////////////////////////////\n",
            "************Subject line 1:*********\n",
            " on november 20 2000\n",
            "***************************************************\n",
            "Score:\n",
            "0\n",
            "************Subject line 2:*********\n",
            " policy/action of the iso unreasonably discourages the connection of existing\n",
            "or new self generation or cogeneration and, if they determine that\n",
            "actions/policies of the iso do that, then they must take efforts to revise\n",
            "customers who would otherwise choose a self-generation alternative\n",
            "***************************************************\n",
            "Score:\n",
            "1\n",
            "************Subject line 3:*********\n",
            "    this code provisionprovides that the commission and the eob shall determine if anypolicy/action of the iso unreasonably discourages the connection of existingor new self generation or cogeneration and, if they determine thatactions/policies of the iso do that, then they must take efforts to revisesuch polices/actions\n",
            "***************************************************\n",
            "Score:\n",
            "1\n",
            "************Subject line 4:*********\n",
            " cac and epuc application requesting investigation into practices of\n",
            " iso\n",
            "***************************************************\n",
            "Score:\n",
            "2\n",
            "/////////////////Content://////////////////////////////\n",
            " the use of cell phones and pagers has increased dramatically in the past fe=\n",
            "w=20\n",
            "years.  as a result the accounts payable department has seen a rapid increa=\n",
            "se=20\n",
            "in the number of invoices and vendors.  with the higher volume, we have=20\n",
            "reviewed our processes in order to continue our rapid payment cycle.\n",
            "\n",
            "although we encourage vendors to address their invoices to individual=20\n",
            "employees, they often mail invoices directly to accounts payable.  at times=\n",
            "=20\n",
            "they fail to list the individual who\n",
            "///////////////////////////////////////////////////////\n",
            "************Subject line 1:*********\n",
            " the use of cell phones and pagers has increased dramatically in the past fe=w=20years  as a result the accounts payable department has seen a rapid increa=se=20in the number of invoices and vendors\n",
            "***************************************************\n",
            "Score:\n",
            "1\n",
            "************Subject line 2:*********\n",
            " in the number of invoices and vendors\n",
            "***************************************************\n",
            "Score:\n",
            "1\n",
            "************Subject line 3:*********\n",
            " to maintain satisfactory response to our vendors and to reduce time necessa=ry=20for research, we request that employees who have pagers, cell phones, and==20other individually billed items such as licenses, subscriptions, etc\n",
            "***************************************************\n",
            "Score:\n",
            "1\n",
            "************Subject line 4:*********\n",
            " update - reimbursement of individually billed items\n",
            "***************************************************\n",
            "Score:\n",
            "2\n",
            "/////////////////Content://////////////////////////////\n",
            " dear body shop member:\n",
            "\n",
            "during the ubs/enron transition your body shop membership will continue without interruption.  we are working with ubs and enron to transition payroll deductions and continue exterior door access to the body shop.  \n",
            "\n",
            "while we are finalizing these changes please continue your body shop membership.  \n",
            "\n",
            "thank you,\n",
            "the body shop\n",
            "\n",
            "///////////////////////////////////////////////////////\n",
            "************Subject line 1:*********\n",
            " during the ubs/enron transition your body shop membership will continue without interruption  we are working with ubs and enron to transition payroll deductions and continue exterior door access to the body shop\n",
            "***************************************************\n",
            "Score:\n",
            "0\n",
            "************Subject line 2:*********\n",
            " during the ubs/enron transition your body shop membership will continue without interruption\n",
            "***************************************************\n",
            "Score:\n",
            "2\n",
            "************Subject line 3:*********\n",
            " during the ubs/enron transition your body shop membership will continue without interruption\n",
            "***************************************************\n",
            "Score:\n",
            "2\n",
            "************Subject line 4:*********\n",
            " body shop deductions for ubs employees\n",
            "***************************************************\n",
            "Score:\n",
            "2\n",
            "/////////////////Content://////////////////////////////\n",
            " it was rumoured by reliant that there is a possibility the devers line will \n",
            "derate on monday, nov. 20th.  azps was unable to confirm this rumour and \n",
            "stated that they will post the information on their web site saturday, nov. \n",
            "18th.  we think the devers line will be derated on monday hrs. ending 10-16.  \n",
            "there has been no word about the n. gilla line.  because this rumour could \n",
            "not be confirmed, we had to schedule as normal for that day.  for your \n",
            "convenience i have supplied a list below of a\n",
            "///////////////////////////////////////////////////////\n",
            "************Subject line 1:*********\n",
            " it was rumoured by reliant that there is a possibility the devers line will derate on monday nov\n",
            "***************************************************\n",
            "Score:\n",
            "2\n",
            "************Subject line 2:*********\n",
            " it was rumoured by reliant that there is a possibility the devers line will \n",
            "derate on monday, nov\n",
            "***************************************************\n",
            "Score:\n",
            "2\n",
            "************Subject line 3:*********\n",
            "   we think the devers line will be derated on monday hrs\n",
            "***************************************************\n",
            "Score:\n",
            "2\n",
            "************Subject line 4:*********\n",
            " attention!! possible derate on the devers line for monday nov. 20th\n",
            "***************************************************\n",
            "Score:\n",
            "2\n",
            "/////////////////Content://////////////////////////////\n",
            " please read this important information concerning the enron stock fund in the enron corp. savings and esop plans\n",
            "\n",
            "on friday, january 11, trading of enron stock was suspended on the new york stock exchange (nyse).  all savings and esop plan transactions, including 401(k) payroll contributions,  involving this fund were placed in a pending status until trading resumed.\n",
            "\n",
            "as announced by enron's office of the chair on wednesday, january 16, enron stock would now be traded over the counter (otc).  up\n",
            "///////////////////////////////////////////////////////\n",
            "************Subject line 1:*********\n",
            " please read this important information concerning the enron stock fund in the enron corp savings and esop planson friday\n",
            "***************************************************\n",
            "Score:\n",
            "1\n",
            "************Subject line 2:*********\n",
            " as announced by enron's office of the chair on wednesday, january 16, enron stock would now be traded over the counter (otc)\n",
            "***************************************************\n",
            "Score:\n",
            "2\n",
            "************Subject line 3:*********\n",
            " as announced by enron's office of the chair on wednesday, january 16, enron stock would now be traded over the counter (otc)\n",
            "***************************************************\n",
            "Score:\n",
            "2\n",
            "************Subject line 4:*********\n",
            " important message to all employees participating in the enron corp\n",
            " savings & esop plans\n",
            "***************************************************\n",
            "Score:\n",
            "2\n",
            "/////////////////Content://////////////////////////////\n",
            " just a reminder - benefits enrollment for 2001 has started.  you have until \n",
            "3:00 pm on october 22, 2000 to make any changes to your benefits.  \n",
            "by now, you should have received the details of open enrollment at your home \n",
            "address. \n",
            "\n",
            "if you do not have any changes to your benefits, you do not need to do \n",
            "anything and you will automatically be re-enrolled in your current coverage. \n",
            "\n",
            "or\n",
            "\n",
            "if you have changes that you need to make, you can do so by calling benefits \n",
            "on call at 1-800-425-5864 or by e\n",
            "///////////////////////////////////////////////////////\n",
            "************Subject line 1:*********\n",
            " just a reminder - benefits enrollment for 2001 has started  you have until 3\n",
            "***************************************************\n",
            "Score:\n",
            "2\n",
            "************Subject line 2:*********\n",
            " if you do not have any changes to your benefits, you do not need to do \n",
            "if you have changes that you need to make, you can do so by calling benefits \n",
            "benefits through the open enrollment process, your coverage will \n",
            "for medical and dental, the deadline is december 31, 2001 for claims incurred \n",
            "the deadline for the vision plan expenses is six months following the date of \n",
            "***************************************************\n",
            "Score:\n",
            "1\n",
            "************Subject line 3:*********\n",
            "  orif you have changes that you need to make, you can do so by calling benefits on call at 1-800-425-5864 or by enrolling via the enrollment system at www\n",
            "***************************************************\n",
            "Score:\n",
            "1\n",
            "************Subject line 4:*********\n",
            " urgent - please read carefully (benefits open enrollment)\n",
            "***************************************************\n",
            "Score:\n",
            "2\n",
            "/////////////////Content://////////////////////////////\n",
            " the resolution center will be decommissioning one of its 888 numbers (888-877-7757) as of january 7, 2002.\n",
            "you can continue to contact the resolution center, toll free, by using the following steps: \n",
            "to contact the enw it resolution center:\n",
            "? call 1-800-973-6766 (1-800-97-enron)\n",
            "? select 1 to transfer to an extension within the enron building\n",
            "? select 31411 and you will be transferred to the helpdesk.\n",
            "the following options are also available through the toll-free number:\n",
            "0: connect to voice dire\n",
            "///////////////////////////////////////////////////////\n",
            "************Subject line 1:*********\n",
            " the resolution center will be decommissioning one of its 888 numbers (888-877-7757) as of january 7 2002\n",
            "***************************************************\n",
            "Score:\n",
            "2\n",
            "************Subject line 2:*********\n",
            " ? select 1 to transfer to an extension within the enron building\n",
            "1: transfer to an extension in the enron building\n",
            "3: transfer to 3 allen center\n",
            "***************************************************\n",
            "Score:\n",
            "0\n",
            "************Subject line 3:*********\n",
            " you can continue to contact the resolution center, toll free, by using the following steps\n",
            "***************************************************\n",
            "Score:\n",
            "2\n",
            "************Subject line 4:*********\n",
            " please read: resolution center to disconnect toll free number\n",
            "***************************************************\n",
            "Score:\n",
            "2\n",
            "final result model1: 1.1\n",
            "final result model2: 1.1\n",
            "final result model3: 1.3\n",
            "final result model3: 1.5\n"
          ],
          "name": "stdout"
        }
      ]
    },
    {
      "cell_type": "code",
      "metadata": {
        "id": "-jkCXbBtNaIF",
        "colab_type": "code",
        "colab": {}
      },
      "source": [
        "final result model1: 0.5\n",
        "final result model2: 0.4\n",
        "final result model3: 0.6\n",
        "final result model3: 1.1\n",
        "\n",
        "final result model1: 1.1\n",
        "final result model2: 1.1\n",
        "final result model3: 1.3\n",
        "final result model3: 1.5"
      ],
      "execution_count": 0,
      "outputs": []
    }
  ]
}